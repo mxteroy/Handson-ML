{
 "cells": [
  {
   "cell_type": "code",
   "execution_count": 54,
   "metadata": {},
   "outputs": [],
   "source": [
    "from sklearn.datasets import load_digits\n",
    "\n",
    "# 1797 sets\n",
    "digits = load_digits()"
   ]
  },
  {
   "cell_type": "code",
   "execution_count": 55,
   "metadata": {},
   "outputs": [
    {
     "data": {
      "text/plain": [
       "<Figure size 432x288 with 0 Axes>"
      ]
     },
     "metadata": {},
     "output_type": "display_data"
    },
    {
     "data": {
      "image/png": "[encoded data removed]",
      "text/plain": [
       "<Figure size 288x288 with 1 Axes>"
      ]
     },
     "metadata": {
      "needs_background": "light"
     },
     "output_type": "display_data"
    }
   ],
   "source": [
    "import matplotlib.pyplot as plt\n",
    "\n",
    "plt.gray()\n",
    "plt.matshow(digits.images[1])\n",
    "plt.show()"
   ]
  },
  {
   "cell_type": "code",
   "execution_count": 56,
   "metadata": {},
   "outputs": [],
   "source": [
    "from sklearn.model_selection import train_test_split\n",
    "\n",
    "X_train, X_test, y_train, y_test = train_test_split(digits.data, digits.target, test_size=0.5)"
   ]
  },
  {
   "cell_type": "code",
   "execution_count": 57,
   "metadata": {},
   "outputs": [],
   "source": [
    "y_train_5 = (y_train == 5)\n",
    "y_test_5 = (y_test == 5)"
   ]
  },
  {
   "cell_type": "code",
   "execution_count": 58,
   "metadata": {},
   "outputs": [],
   "source": [
    "from sklearn.linear_model import SGDClassifier\n",
    "\n",
    "sgd_clf = SGDClassifier(random_state=42)\n",
    "# sgd_clf.fit(X_train, y_train_5)"
   ]
  },
  {
   "cell_type": "code",
   "execution_count": 59,
   "metadata": {},
   "outputs": [],
   "source": [
    "# measure accuracy by finding the ratio of correct predictions to the number of test instances\n",
    "\n",
    "# from sklearn.metrics import mean_squared_error\n",
    "import numpy as np\n",
    "\n",
    "# predictions = sgd_clf.predict(X_test)\n",
    "# num_correct = sum(predictions == (y_test == 5))\n",
    "\n",
    "# print(num_correct/len(y_test))"
   ]
  },
  {
   "cell_type": "code",
   "execution_count": 60,
   "metadata": {},
   "outputs": [
    {
     "data": {
      "text/plain": [
       "array([0.94333333, 0.95      , 0.93979933])"
      ]
     },
     "execution_count": 60,
     "metadata": {},
     "output_type": "execute_result"
    }
   ],
   "source": [
    "from sklearn.model_selection import cross_val_score\n",
    "\n",
    "cross_val_score(sgd_clf, X_test, y_test, cv=3, scoring=\"accuracy\")\n",
    "\n",
    "# accuracy is good but it is not the preferred performance measure because in a case where a model only guesses an instance is a non-5 and 90% of the training\n",
    "# set are non-5s, then it would have a 90% accuracy even though it's completely wrong"
   ]
  },
  {
   "cell_type": "code",
   "execution_count": 61,
   "metadata": {},
   "outputs": [
    {
     "name": "stdout",
     "output_type": "stream",
     "text": [
      "[[799   8]\n",
      " [  8  83]]\n"
     ]
    }
   ],
   "source": [
    "from sklearn.model_selection import cross_val_predict\n",
    "from sklearn.metrics import confusion_matrix\n",
    "\n",
    "# confusion matrix is a better way to evaluate the performance of a model\n",
    "\n",
    "y_train_pred = cross_val_predict(sgd_clf, X_train, y_train_5, cv=3) # predicts an instance using a different fold\n",
    "\n",
    "confusion = confusion_matrix(y_train_5, y_train_pred)\n",
    "print(confusion)"
   ]
  },
  {
   "cell_type": "code",
   "execution_count": 62,
   "metadata": {},
   "outputs": [
    {
     "data": {
      "text/plain": [
       "\"\\nprecision (TP/(TP + FP)) is not a good metric because in a situation where there is only one single positive prediction and that prediction is correct\\nwill result in a perfect precision\\n\\nThat's why precision is a metric that is accompanied by recall (TP/(TP+FN)) which is the ratio of positive instances that are correctly deteced by the\\nclassifier\\n\""
      ]
     },
     "execution_count": 62,
     "metadata": {},
     "output_type": "execute_result"
    }
   ],
   "source": [
    "'''\n",
    "precision (TP/(TP + FP)) is not a good metric because in a situation where there is only one single positive prediction and that prediction is correct\n",
    "will result in a perfect precision\n",
    "\n",
    "That's why precision is a metric that is accompanied by recall (TP/(TP+FN)) which is the ratio of positive instances that are correctly deteced by the\n",
    "classifier\n",
    "'''"
   ]
  },
  {
   "cell_type": "code",
   "execution_count": 63,
   "metadata": {},
   "outputs": [
    {
     "name": "stdout",
     "output_type": "stream",
     "text": [
      "0.9120879120879121 0.9120879120879121\n"
     ]
    }
   ],
   "source": [
    "from sklearn.metrics import precision_score, recall_score\n",
    "\n",
    "print(precision_score(y_train_5, y_train_pred), recall_score(y_train_5, y_train_pred))\n",
    "# precision represents how many times the model predicted a 5\n",
    "# recall represents how many 5s it detected"
   ]
  },
  {
   "cell_type": "code",
   "execution_count": 64,
   "metadata": {},
   "outputs": [
    {
     "data": {
      "text/plain": [
       "0.9120879120879121"
      ]
     },
     "execution_count": 64,
     "metadata": {},
     "output_type": "execute_result"
    }
   ],
   "source": [
    "# A more convenient way to evaluate the performance of the model is to combine precision and recall into the F1 score (harmonic mean). \n",
    "# gives more weight to lower values of precision and recall, which means they have to be high in order to have a high F1 score\n",
    "\n",
    "from sklearn.metrics import f1_score\n",
    "\n",
    "f1_score(y_train_5, y_train_pred)"
   ]
  },
  {
   "cell_type": "code",
   "execution_count": 65,
   "metadata": {},
   "outputs": [
    {
     "name": "stdout",
     "output_type": "stream",
     "text": [
      "24\n",
      "899\n"
     ]
    }
   ],
   "source": [
    "sgd_clf.fit(X_train, y_train_5)\n",
    "y_scores = sgd_clf.decision_function(X_test)\n",
    "\n",
    "threshold = 850\n",
    "y_some_digit_pred = (y_scores > threshold)\n",
    "print(sum((y_some_digit_pred == (y_test == 5)) == False))\n",
    "print(len(y_some_digit_pred))"
   ]
  },
  {
   "cell_type": "code",
   "execution_count": 66,
   "metadata": {},
   "outputs": [],
   "source": [
    "y_scores = cross_val_predict(sgd_clf, X_train, y_train_5, cv=3, method=\"decision_function\")"
   ]
  },
  {
   "cell_type": "code",
   "execution_count": 67,
   "metadata": {},
   "outputs": [],
   "source": [
    "from sklearn.metrics import precision_recall_curve\n",
    "\n",
    "precisions, recalls, thresholds = precision_recall_curve(y_train_5, y_scores)"
   ]
  },
  {
   "cell_type": "code",
   "execution_count": 68,
   "metadata": {},
   "outputs": [
    {
     "data": {
      "image/png": "[encoded data removed]",
      "text/plain": [
       "<Figure size 432x288 with 1 Axes>"
      ]
     },
     "metadata": {
      "needs_background": "light"
     },
     "output_type": "display_data"
    }
   ],
   "source": [
    "def plot_precision_recall_vs_threshold(precision, recalls, thresholds):\n",
    "    plt.plot(thresholds, precision[:-1], \"b--\", label=\"Precision\")\n",
    "    plt.plot(thresholds, recalls[:-1], \"g-\", label=\"Recall\")\n",
    "    plt.xlabel(\"Threshold\")\n",
    "    plt.legend(loc=\"center left\")\n",
    "    plt.ylim([0, 1.1])\n",
    "    plt.xlim([-500, 0])\n",
    "    \n",
    "plot_precision_recall_vs_threshold(precisions, recalls, thresholds)"
   ]
  },
  {
   "cell_type": "code",
   "execution_count": 69,
   "metadata": {},
   "outputs": [
    {
     "name": "stdout",
     "output_type": "stream",
     "text": [
      "0.8865979381443299 0.945054945054945\n"
     ]
    }
   ],
   "source": [
    "y_train_pred_90 = (y_scores > -300) #get the training instances that would be classified as positive and give 90% precision. I'm deciding the decision boundary\n",
    "print(precision_score(y_train_5, y_train_pred_90), recall_score(y_train_5, y_train_pred_90))"
   ]
  },
  {
   "cell_type": "code",
   "execution_count": 70,
   "metadata": {},
   "outputs": [],
   "source": [
    "from sklearn.metrics import roc_curve\n",
    "\n",
    "fpr,tpr, thresholds = roc_curve(y_train_5, y_scores)\n",
    "\n",
    "def plot_roc_curve(fpr, tpr,label=None):\n",
    "    plt.plot(fpr, tpr, linewidth=2, label=label)\n",
    "    plt.plot([0,1],[0,1], 'k--')\n",
    "    plt.axis([0, 1, 0, 1])\n",
    "    plt.xlabel('False Positive Rate')\n",
    "    plt.ylabel('True Positive Rate')"
   ]
  },
  {
   "cell_type": "code",
   "execution_count": 71,
   "metadata": {},
   "outputs": [
    {
     "data": {
      "text/plain": [
       "0.9891335430368887"
      ]
     },
     "execution_count": 71,
     "metadata": {},
     "output_type": "execute_result"
    }
   ],
   "source": [
    "from sklearn.metrics import roc_auc_score\n",
    "\n",
    "roc_auc_score(y_train_5, y_scores)"
   ]
  },
  {
   "cell_type": "code",
   "execution_count": 72,
   "metadata": {},
   "outputs": [],
   "source": [
    "from sklearn.ensemble import RandomForestClassifier\n",
    "\n",
    "forest_clf = RandomForestClassifier(random_state=42)\n",
    "y_probas_forest = cross_val_predict(forest_clf, X_train, y_train_5, cv=3, method=\"predict_proba\") #returns Nx2 matrix. col=class, row=instance"
   ]
  },
  {
   "cell_type": "code",
   "execution_count": 73,
   "metadata": {},
   "outputs": [],
   "source": [
    "# use the prob of pos class as the score for the ROC score\n",
    "y_scores_forest = y_probas_forest[:, 1] # get the 2nd col because that is the prob of the positive class (instance is a 5)"
   ]
  },
  {
   "cell_type": "code",
   "execution_count": 74,
   "metadata": {},
   "outputs": [],
   "source": [
    "from sklearn.metrics import roc_curve\n",
    "\n",
    "fpr_forest, tpr_forest, thresholds_forest = roc_curve(y_train_5, y_scores_forest)"
   ]
  },
  {
   "cell_type": "code",
   "execution_count": 75,
   "metadata": {},
   "outputs": [
    {
     "data": {
      "image/png": "[encoded data removed]",
      "text/plain": [
       "<Figure size 432x288 with 1 Axes>"
      ]
     },
     "metadata": {
      "needs_background": "light"
     },
     "output_type": "display_data"
    }
   ],
   "source": [
    "plt.plot(fpr, tpr, \"b:\", label=\"SGD\")\n",
    "plot_roc_curve(fpr_forest, tpr_forest, \"Random Forest\")\n",
    "plt.legend(loc=\"lower right\")\n",
    "plt.show()"
   ]
  },
  {
   "cell_type": "code",
   "execution_count": 76,
   "metadata": {},
   "outputs": [
    {
     "data": {
      "text/plain": [
       "0.9946893255443441"
      ]
     },
     "execution_count": 76,
     "metadata": {},
     "output_type": "execute_result"
    }
   ],
   "source": [
    "roc_auc_score(y_train_5, y_scores_forest)"
   ]
  },
  {
   "cell_type": "code",
   "execution_count": 77,
   "metadata": {},
   "outputs": [
    {
     "name": "stdout",
     "output_type": "stream",
     "text": [
      "0.8865979381443299 0.945054945054945\n"
     ]
    }
   ],
   "source": [
    "print(precision_score(y_train_5, y_train_pred_90), recall_score(y_train_5, y_train_pred_90))"
   ]
  },
  {
   "cell_type": "code",
   "execution_count": 78,
   "metadata": {},
   "outputs": [],
   "source": [
    "#MULTICLASS CLASSIFICATION"
   ]
  },
  {
   "cell_type": "code",
   "execution_count": 79,
   "metadata": {},
   "outputs": [
    {
     "data": {
      "text/plain": [
       "array([0.93666667, 0.93311037, 0.93645485])"
      ]
     },
     "execution_count": 79,
     "metadata": {},
     "output_type": "execute_result"
    }
   ],
   "source": [
    "# Feature scaling. scale the features so that the machien learning algo performs better. SGD converges faster when the vals are scaled\n",
    "\n",
    "from sklearn.preprocessing import StandardScaler\n",
    "\n",
    "scaler = StandardScaler()\n",
    "X_train_scaled = scaler.fit_transform(X_train.astype(np.float64))\n",
    "cross_val_score(sgd_clf, X_train_scaled, y_train, cv=3, scoring=\"accuracy\")"
   ]
  },
  {
   "cell_type": "code",
   "execution_count": 80,
   "metadata": {},
   "outputs": [
    {
     "name": "stdout",
     "output_type": "stream",
     "text": [
      "[[81  0  1  0  1  0  0  0  0  0]\n",
      " [ 0 81  0  0  0  0  2  0  2  3]\n",
      " [ 0  0 86  2  0  0  0  1  2  0]\n",
      " [ 0  0  1 86  0  1  0  1  3  3]\n",
      " [ 1  3  0  0 80  0  1  2  1  1]\n",
      " [ 0  0  0  1  0 86  0  0  1  3]\n",
      " [ 0  1  0  0  0  0 79  0  1  0]\n",
      " [ 0  0  0  0  2  0  0 94  1  1]\n",
      " [ 0  3  1  0  0  0  0  0 87  1]\n",
      " [ 0  1  0  2  0  1  0  2  4 80]]\n"
     ]
    }
   ],
   "source": [
    "'''\n",
    "if a model is promising, one way to improve it is to see its errors\n",
    "'''\n",
    "\n",
    "y_train_pred = cross_val_predict(sgd_clf, X_train_scaled, y_train, cv=3)\n",
    "conf_mtx = confusion_matrix(y_train, y_train_pred)\n",
    "print(conf_mtx)"
   ]
  },
  {
   "cell_type": "code",
   "execution_count": 81,
   "metadata": {},
   "outputs": [
    {
     "data": {
      "text/plain": [
       "<matplotlib.image.AxesImage at 0x7fa4e8c5c340>"
      ]
     },
     "execution_count": 81,
     "metadata": {},
     "output_type": "execute_result"
    },
    {
     "data": {
      "image/png": "[encoded data removed]",
      "text/plain": [
       "<Figure size 288x288 with 1 Axes>"
      ]
     },
     "metadata": {
      "needs_background": "light"
     },
     "output_type": "display_data"
    }
   ],
   "source": [
    "plt.matshow(conf_mtx, cmap=plt.cm.gray)"
   ]
  },
  {
   "cell_type": "code",
   "execution_count": 82,
   "metadata": {},
   "outputs": [],
   "source": [
    "#2s seem to be performing the worst which means either two things: too few 2 training instances or the model does not perform as well on 2s"
   ]
  },
  {
   "cell_type": "code",
   "execution_count": 83,
   "metadata": {},
   "outputs": [],
   "source": [
    "#verify the cause:\n",
    "\n",
    "row_sums = conf_mtx.sum(axis=1, keepdims=True) #axis=1 means row, keepsdims=True means keep dimension\n",
    "norm_conf_mtx = conf_mtx / row_sums"
   ]
  },
  {
   "cell_type": "code",
   "execution_count": 84,
   "metadata": {},
   "outputs": [
    {
     "data": {
      "image/png": "[encoded data removed]",
      "text/plain": [
       "<Figure size 288x288 with 1 Axes>"
      ]
     },
     "metadata": {
      "needs_background": "light"
     },
     "output_type": "display_data"
    }
   ],
   "source": [
    "np.fill_diagonal(norm_conf_mtx, 0) # fill diagonal with zeros to single out the errors\n",
    "plt.matshow(norm_conf_mtx, cmap=plt.cm.gray)\n",
    "plt.show()"
   ]
  },
  {
   "cell_type": "code",
   "execution_count": 85,
   "metadata": {},
   "outputs": [
    {
     "name": "stdout",
     "output_type": "stream",
     "text": [
      "[2 5 7 9 2 2 7 5 0 8 3 5 8 4 4 9 1 9 6 5 8 2 4 4 6 4 1 8 8 9 5 1 4 0 9 5 3\n",
      " 3 1 1 7 6 6 2 8 1 1 1 4 1 2 3 7 4 0 5 3 7 6 2 7 8 9 2 2 4 8 0 4 7 6 2 7 5\n",
      " 3 9 2 7 7 6 3 6 7 6 8 4 6 9 8 7 5 9 1 8 9 8 1 7 9 9 2 0 8 9 3 8 0 6 1 4 3\n",
      " 7 7 1 4 8 5 1 4 2 3 6 0 2 0 2 9 9 6 7 8 8 0 1 9 1 5 0 3 7 2 2 8 4 7 2 8 0\n",
      " 7 4 5 8 3 8 4 9 2 9 5 7 1 0 9 1 6 5 8 2 0 2 9 0 1 5 8 5 3 2 0 1 7 7 7 3 8\n",
      " 7 5 2 0 3 4 9 9 4 5 7 3 2 2 5 7 7 9 7 5 7 3 2 3 6 3 1 8 9 8 2 6 8 2 0 8 0\n",
      " 1 7 7 8 8 1 3 0 1 5 7 8 2 9 0 8 7 7 2 8 8 1 1 1 4 6 0 1 7 6 6 9 5 6 4 3 2\n",
      " 0 7 8 1 4 5 9 5 2 7 4 3 4 1 2 6 5 6 7 4 5 5 5 5 3 6 9 4 7 0 6 5 4 1 5 0 9\n",
      " 2 8 3 2 2 0 4 8 2 3 6 0 6 1 7 4 3 3 2 2 3 8 1 8 0 5 2 6 4 8 9 3 2 1 0 0 4\n",
      " 2 6 7 4 2 1 6 7 6 1 3 6 1 8 5 2 6 8 2 2 0 2 3 3 8 6 3 6 3 2 5 4 9 1 2 8 8\n",
      " 2 5 2 5 5 1 0 3 2 5 5 1 9 2 6 7 3 8 6 7 6 1 4 5 0 5 5 0 6 2 8 9 6 9 6 3 4\n",
      " 3 2 9 3 9 5 7 8 3 7 6 7 3 8 7 7 9 4 5 7 0 2 7 4 1 9 4 4 3 8 9 6 4 2 3 1 3\n",
      " 6 0 4 2 7 9 2 5 2 0 6 0 4 5 7 0 0 2 5 1 7 4 4 4 4 7 6 2 7 7 6 0 0 4 3 1 9\n",
      " 6 8 7 8 0 8 4 7 6 7 9 1 9 1 0 5 5 8 6 0 4 2 7 5 9 3 2 2 2 5 4 7 7 5 5 5 1\n",
      " 3 6 1 6 0 9 3 4 8 9 3 3 0 2 5 1 0 9 2 0 7 4 7 3 1 8 4 4 4 2 4 6 9 1 2 3 4\n",
      " 1 7 7 1 7 3 4 4 0 0 3 6 1 2 3 7 8 1 5 1 6 4 5 2 0 4 9 3 0 2 4 1 0 3 1 5 2\n",
      " 6 7 3 4 0 1 4 9 7 1 2 9 9 8 4 8 5 0 9 6 1 8 6 3 7 1 3 0 3 5 8 7 1 6 9 3 6\n",
      " 4 0 6 5 5 4 0 9 8 8 1 9 0 9 5 9 3 4 6 7 5 7 8 8 9 7 3 6 9 3 9 0 2 7 3 8 9\n",
      " 7 1 5 6 0 8 4 1 5 2 1 9 3 6 4 9 7 8 6 3 8 0 8 9 7 3 3 0 3 6 8 6 0 6 8 0 5\n",
      " 6 9 7 8 5 6 0 2 3 7 9 2 6 5 1 0 1 8 7 3 5 7 1 4 8 3 0 4 3 3 1 4 3 4 9 3 9\n",
      " 8 8 8 1 3 9 3 9 4 2 2 4 3 1 2 8 4 8 9 9 5 8 4 8 6 3 1 1 0 6 7 9 3 0 9 1 4\n",
      " 5 2 0 8 5 3 8 5 3 4 3 3 3 7 0 2 5 2 5 4 3 5 5 5 2 5 5 2 0 0 1 9 8 9 6 9 7\n",
      " 9 5 4 1 8 7 2 0 7 5 3 5 5 1 8 0 7 1 6 7 0 7 2 9 8 7 5 8 5 9 6 7 4 9 9 1 3\n",
      " 8 7 4 5 3 1 0 9 4 1 9 9 6 7 9 7 5 6 1 3 2 9 2 3 4 4 6 6 0 4 6 8 7 9 1 4 0\n",
      " 0 1 5 8 0 5 0 3 1 9]\n"
     ]
    }
   ],
   "source": []
  },
  {
   "cell_type": "code",
   "execution_count": 89,
   "metadata": {},
   "outputs": [
    {
     "data": {
      "image/png": "[encoded data removed]",
      "text/plain": [
       "<Figure size 432x288 with 1 Axes>"
      ]
     },
     "metadata": {
      "needs_background": "light"
     },
     "output_type": "display_data"
    }
   ],
   "source": [
    "import matplotlib\n",
    "\n",
    "def plot_digit(data):\n",
    "    image = data.reshape(8, 8)\n",
    "    plt.imshow(image, cmap = matplotlib.cm.binary,\n",
    "               interpolation=\"nearest\")\n",
    "    plt.axis(\"off\")\n",
    "    \n",
    "plot_digit(digits.images[1])"
   ]
  },
  {
   "cell_type": "code",
   "execution_count": 90,
   "metadata": {},
   "outputs": [],
   "source": [
    "def plot_digits(instances, images_per_row=5):\n",
    "    size = 8\n",
    "    images_per_row = min(len(instances), images_per_row)\n",
    "    images = [instance.reshape(size,size) for instance in instances]\n",
    "    n_rows = (len(instances) - 1) // images_per_row + 1\n",
    "    row_images = []\n",
    "    n_empty = n_rows * images_per_row - len(instances)\n",
    "    images.append(np.zeros((size, size * n_empty)))\n",
    "    for row in range(n_rows):\n",
    "        rimages = images[row * images_per_row : (row + 1) * images_per_row]\n",
    "        row_images.append(np.concatenate(rimages, axis=1))\n",
    "    image = np.concatenate(row_images, axis=0)\n",
    "    plt.imshow(image, cmap = matplotlib.cm.binary)\n",
    "    plt.axis(\"off\")"
   ]
  },
  {
   "cell_type": "code",
   "execution_count": 119,
   "metadata": {},
   "outputs": [
    {
     "name": "stdout",
     "output_type": "stream",
     "text": [
      "1\n"
     ]
    },
    {
     "data": {
      "image/png": "[encoded data removed]",
      "text/plain": [
       "<Figure size 576x576 with 3 Axes>"
      ]
     },
     "metadata": {
      "needs_background": "light"
     },
     "output_type": "display_data"
    }
   ],
   "source": [
    "cl_a, cl_b = 3, 5\n",
    "X_aa = X_train[(y_train == cl_a) & (y_train_pred == cl_a)]\n",
    "X_ab = X_train[(y_train == cl_a) & (y_train_pred == cl_b)]\n",
    "X_ba = X_train[(y_train == cl_a) & (y_train_pred == cl_a)]\n",
    "X_bb = X_train[(y_train == cl_b) & (y_train_pred == cl_b)]\n",
    "print(X_train[True, True])\n",
    "plt.figure(figsize=(8,8))\n",
    "\n",
    "plt.subplot(221); plot_digits(X_aa[:25], images_per_row=5)\n",
    "plt.subplot(222); plot_digits(X_ab[:25], images_per_row=5)\n",
    "plt.subplot(223); plot_digits(X_ba[:25], images_per_row=5)\n"
   ]
  },
  {
   "cell_type": "code",
   "execution_count": null,
   "metadata": {},
   "outputs": [],
   "source": []
  }
 ],
 "metadata": {
  "kernelspec": {
   "display_name": "Python 3",
   "language": "python",
   "name": "python3"
  },
  "language_info": {
   "codemirror_mode": {
    "name": "ipython",
    "version": 3
   },
   "file_extension": ".py",
   "mimetype": "text/x-python",
   "name": "python",
   "nbconvert_exporter": "python",
   "pygments_lexer": "ipython3",
   "version": "3.8.5"
  }
 },
 "nbformat": 4,
 "nbformat_minor": 4
}
