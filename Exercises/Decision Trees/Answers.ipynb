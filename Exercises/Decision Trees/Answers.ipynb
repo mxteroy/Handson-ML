{
 "cells": [
  {
   "cell_type": "markdown",
   "metadata": {},
   "source": [
    "1. O(log(1 million))\n",
    "\n",
    "2. A node's gini impurity is generally lower than its parents because the parent will have likely pruned out other classes in its condition. It is generally lower but not always because some sampes might be misclassified e.g. (D, C) (C, C, C) from parent's samples [C, C, C, D, C] - the prior class has a higher gini impurity while the latter has a lower impurity.\n",
    "\n",
    "3. Yes, it is a good idea to decrease max depth of a decision tree because the depth is positively correlated with the chance of overfitting the data set. Decreasing the depth will constrain the model to prevent overfitting.\n",
    "\n",
    "4. The scale of the features does not affect the performance of the decision trees.\n",
    "\n",
    "5. Computational complexity of decision tree is O(n*mlog(m)). The training time will be multiplied by K=10*log(10m)/log(m) when the size of the training is increased by 10. So if an training on 1,000,000 takes one hour then training on 10,000,000 instances will be around K=11.7 times.\n",
    "\n",
    "6. If the Decision tree is regularized (depth is limited, small dataset) then presorting the input (presort=True) will speed up training. With 100,000 training instances, that is a large dataset and presort will slow down training."
   ]
  },
  {
   "cell_type": "markdown",
   "metadata": {},
   "source": [
    "7. Train + fine-tune Decision Tree classifier for moons dataset"
   ]
  },
  {
   "cell_type": "code",
   "execution_count": 41,
   "metadata": {},
   "outputs": [],
   "source": [
    "from sklearn.datasets import make_moons\n",
    "from sklearn.model_selection import train_test_split\n",
    "\n",
    "#a. make moons\n",
    "X, y = make_moons(n_samples=10000, noise=0.4)\n",
    "\n",
    "#b. split to train and test sets\n",
    "X_train, X_test, y_train, y_test = train_test_split(X, y)"
   ]
  },
  {
   "cell_type": "code",
   "execution_count": 154,
   "metadata": {},
   "outputs": [
    {
     "data": {
      "text/plain": [
       "GridSearchCV(estimator=DecisionTreeClassifier(),\n",
       "             param_grid={'max_leaf_nodes': [10, 100, 200, 500]})"
      ]
     },
     "execution_count": 154,
     "metadata": {},
     "output_type": "execute_result"
    }
   ],
   "source": [
    "#c. GridSearchCV to find best hyperparameters\n",
    "from sklearn.model_selection import GridSearchCV\n",
    "from sklearn.tree import DecisionTreeClassifier\n",
    "\n",
    "grid_search_clf = GridSearchCV(DecisionTreeClassifier(), {'max_leaf_nodes': [10, 100, 200, 500]})\n",
    "grid_search_clf.fit(X_train, y_train)"
   ]
  },
  {
   "cell_type": "code",
   "execution_count": 155,
   "metadata": {},
   "outputs": [
    {
     "data": {
      "text/plain": [
       "{'mean_fit_time': array([0.00629678, 0.00870037, 0.00927176, 0.01096492]),\n",
       " 'std_fit_time': array([0.00026085, 0.00021223, 0.00029993, 0.00033713]),\n",
       " 'mean_score_time': array([0.00052395, 0.00055079, 0.00055461, 0.00058408]),\n",
       " 'std_score_time': array([1.42107074e-05, 7.93529241e-06, 1.81288446e-05, 1.70140683e-05]),\n",
       " 'param_max_leaf_nodes': masked_array(data=[10, 100, 200, 500],\n",
       "              mask=[False, False, False, False],\n",
       "        fill_value='?',\n",
       "             dtype=object),\n",
       " 'params': [{'max_leaf_nodes': 10},\n",
       "  {'max_leaf_nodes': 100},\n",
       "  {'max_leaf_nodes': 200},\n",
       "  {'max_leaf_nodes': 500}],\n",
       " 'split0_test_score': array([0.862     , 0.84      , 0.83866667, 0.834     ]),\n",
       " 'split1_test_score': array([0.848     , 0.83333333, 0.83333333, 0.822     ]),\n",
       " 'split2_test_score': array([0.844     , 0.85      , 0.84066667, 0.822     ]),\n",
       " 'split3_test_score': array([0.846     , 0.85      , 0.84066667, 0.824     ]),\n",
       " 'split4_test_score': array([0.83666667, 0.82866667, 0.82466667, 0.82133333]),\n",
       " 'mean_test_score': array([0.84733333, 0.8404    , 0.8356    , 0.82466667]),\n",
       " 'std_test_score': array([0.00827312, 0.00862657, 0.0060897 , 0.00475161]),\n",
       " 'rank_test_score': array([1, 2, 3, 4], dtype=int32)}"
      ]
     },
     "execution_count": 155,
     "metadata": {},
     "output_type": "execute_result"
    }
   ],
   "source": [
    "grid_search_clf.cv_results_"
   ]
  },
  {
   "cell_type": "code",
   "execution_count": 256,
   "metadata": {},
   "outputs": [
    {
     "data": {
      "text/plain": [
       "DecisionTreeClassifier(max_leaf_nodes=10)"
      ]
     },
     "execution_count": 256,
     "metadata": {},
     "output_type": "execute_result"
    }
   ],
   "source": [
    "dtree_clf = grid_search_clf.best_estimator_\n",
    "\n",
    "dtree_clf.fit(X_train, y_train)"
   ]
  },
  {
   "cell_type": "code",
   "execution_count": 257,
   "metadata": {},
   "outputs": [
    {
     "data": {
      "text/plain": [
       "0.8532"
      ]
     },
     "execution_count": 257,
     "metadata": {},
     "output_type": "execute_result"
    }
   ],
   "source": [
    "dtree_clf.score(X_test, y_test)"
   ]
  },
  {
   "cell_type": "markdown",
   "metadata": {},
   "source": [
    "8. Grow a forest"
   ]
  },
  {
   "cell_type": "code",
   "execution_count": 316,
   "metadata": {},
   "outputs": [],
   "source": [
    "from sklearn.model_selection import ShuffleSplit\n",
    "\n",
    "n_trees = 1000\n",
    "n_instances = 100\n",
    "\n",
    "rs = ShuffleSplit(n_splits=1000, train_size=n_instances, test_size=len(X_train)-n_instances, random_state=42)\n",
    "X_train_split = rs.split(X_train)"
   ]
  },
  {
   "cell_type": "code",
   "execution_count": 317,
   "metadata": {},
   "outputs": [],
   "source": [
    "from sklearn.metrics import accuracy_score\n",
    "from sklearn.base import clone\n",
    "\n",
    "dtree_clf = grid_search_clf.best_estimator_\n",
    "\n",
    "forest = [clone(dtree_clf) for _ in range(n_trees)]\n",
    "i = 0\n",
    "\n",
    "predictions = []\n",
    "scores = []\n",
    "\n",
    "for train_index, test_index in X_train_split:\n",
    "    forest[i].fit(X_train[train_index], y_train[train_index])\n",
    "    prediction = forest[i].predict(X_test)\n",
    "    predictions.append(prediction)\n",
    "    scores.append(accuracy_score(y_test, prediction))\n",
    "    i += 1"
   ]
  },
  {
   "cell_type": "code",
   "execution_count": 318,
   "metadata": {},
   "outputs": [
    {
     "data": {
      "text/plain": [
       "0.8065956000000001"
      ]
     },
     "execution_count": 318,
     "metadata": {},
     "output_type": "execute_result"
    }
   ],
   "source": [
    "import numpy as np\n",
    "\n",
    "np.mean(scores)"
   ]
  },
  {
   "cell_type": "code",
   "execution_count": 320,
   "metadata": {},
   "outputs": [],
   "source": [
    "from scipy import stats\n",
    "\n",
    "y_pred_majority_votes, n_votes = stats.mode(predictions, axis=0)"
   ]
  },
  {
   "cell_type": "code",
   "execution_count": 321,
   "metadata": {},
   "outputs": [
    {
     "data": {
      "text/plain": [
       "0.8568"
      ]
     },
     "execution_count": 321,
     "metadata": {},
     "output_type": "execute_result"
    }
   ],
   "source": [
    "accuracy_score(y_test, y_pred_majority_votes.reshape([-1]))"
   ]
  }
 ],
 "metadata": {
  "kernelspec": {
   "display_name": "env",
   "language": "python",
   "name": "env"
  },
  "language_info": {
   "codemirror_mode": {
    "name": "ipython",
    "version": 3
   },
   "file_extension": ".py",
   "mimetype": "text/x-python",
   "name": "python",
   "nbconvert_exporter": "python",
   "pygments_lexer": "ipython3",
   "version": "3.8.5"
  }
 },
 "nbformat": 4,
 "nbformat_minor": 4
}
