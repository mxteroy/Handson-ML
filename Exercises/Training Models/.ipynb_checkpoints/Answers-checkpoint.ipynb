{
 "cells": [
  {
   "cell_type": "markdown",
   "metadata": {},
   "source": [
    "### Training Model Exercises"
   ]
  },
  {
   "cell_type": "markdown",
   "metadata": {},
   "source": [
    "1. If there are millions of features in a linear regression problem, the best algorithm to use would be a gradient descent algorithm (stochastic, mini-batch, and batch if there is enough memory). Using the normal equation would be too slow because it scales poorly with the number of features in the dataset"
   ]
  },
  {
   "cell_type": "markdown",
   "metadata": {},
   "source": [
    "2. Feature scaling is helpful when the dataset has very different scales for features. The algorithm that suffers from this is gradient descent because it will resemble an elongated bowl (pg 115) when the features have different scales. The downside to this is that reaching the global minimum for the cost function will take longer and take a rougher path."
   ]
  },
  {
   "cell_type": "markdown",
   "metadata": {},
   "source": [
    "3. No because the cost function will be convex"
   ]
  },
  {
   "cell_type": "markdown",
   "metadata": {},
   "source": [
    "4. Depends. If the model is linear or logistic, the cost function is convex, and the learning rate isn't too high, then all the GD algorithms will approach the global minimum and results in similar models. Although, the learning rate must be gradually decreased because otherwise stochastic and mini-batch GD will never fully converge to the global minimum. Even if they are run for a very long time, they will produce slightly different models unless the learning rate is adjusted while converging."
   ]
  },
  {
   "cell_type": "code",
   "execution_count": null,
   "metadata": {},
   "outputs": [],
   "source": []
  }
 ],
 "metadata": {
  "kernelspec": {
   "display_name": "env",
   "language": "python",
   "name": "env"
  },
  "language_info": {
   "codemirror_mode": {
    "name": "ipython",
    "version": 3
   },
   "file_extension": ".py",
   "mimetype": "text/x-python",
   "name": "python",
   "nbconvert_exporter": "python",
   "pygments_lexer": "ipython3",
   "version": "3.8.5"
  }
 },
 "nbformat": 4,
 "nbformat_minor": 4
}
