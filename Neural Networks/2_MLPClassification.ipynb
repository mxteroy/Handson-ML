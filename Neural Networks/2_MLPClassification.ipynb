{
 "cells": [
  {
   "cell_type": "code",
   "execution_count": 38,
   "metadata": {},
   "outputs": [
    {
     "data": {
      "text/plain": [
       "'2.4.1'"
      ]
     },
     "execution_count": 38,
     "metadata": {},
     "output_type": "execute_result"
    }
   ],
   "source": [
    "import tensorflow as tf\n",
    "from tensorflow import keras\n",
    "\n",
    "tf.__version__"
   ]
  },
  {
   "cell_type": "code",
   "execution_count": 39,
   "metadata": {},
   "outputs": [
    {
     "data": {
      "text/plain": [
       "'2.4.0'"
      ]
     },
     "execution_count": 39,
     "metadata": {},
     "output_type": "execute_result"
    }
   ],
   "source": [
    "keras.__version__"
   ]
  },
  {
   "cell_type": "code",
   "execution_count": 40,
   "metadata": {},
   "outputs": [],
   "source": [
    "fashion_mnist = keras.datasets.fashion_mnist\n",
    "(X_train_full, y_train_full), (X_test, y_test) = fashion_mnist.load_data()"
   ]
  },
  {
   "cell_type": "code",
   "execution_count": 41,
   "metadata": {},
   "outputs": [
    {
     "data": {
      "text/plain": [
       "(60000, 28, 28)"
      ]
     },
     "execution_count": 41,
     "metadata": {},
     "output_type": "execute_result"
    }
   ],
   "source": [
    "X_train_full.shape"
   ]
  },
  {
   "cell_type": "code",
   "execution_count": 42,
   "metadata": {},
   "outputs": [
    {
     "data": {
      "text/plain": [
       "dtype('uint8')"
      ]
     },
     "execution_count": 42,
     "metadata": {},
     "output_type": "execute_result"
    }
   ],
   "source": [
    "X_train_full.dtype"
   ]
  },
  {
   "cell_type": "markdown",
   "metadata": {},
   "source": [
    "## Building an image classifier using Sequential API"
   ]
  },
  {
   "cell_type": "code",
   "execution_count": 101,
   "metadata": {},
   "outputs": [],
   "source": [
    "from sklearn.model_selection import train_test_split\n",
    "\n",
    "X_train, X_val, y_train, y_val = train_test_split(X_train_full, y_train_full, test_size=0.2)\n",
    "X_train, X_val, y_train, y_val = X_train / 255.0, X_val / 255.0, y_train, y_val\n",
    "X_test = X_test / 255.0"
   ]
  },
  {
   "cell_type": "code",
   "execution_count": 44,
   "metadata": {},
   "outputs": [
    {
     "data": {
      "text/plain": [
       "'Sneaker'"
      ]
     },
     "execution_count": 44,
     "metadata": {},
     "output_type": "execute_result"
    }
   ],
   "source": [
    "class_names = [\"T-shirt/top\", \"Trouser\", \"Pullover\", \"Dress\", \"Coat\", \"Sandal\", \"Shirt\", \"Sneaker\", \"Bag\", \"Ankle boot\"]\n",
    "class_names[y_train[0]]"
   ]
  },
  {
   "cell_type": "markdown",
   "metadata": {},
   "source": [
    "## Creating the model using Keras' Sequential API"
   ]
  },
  {
   "cell_type": "code",
   "execution_count": 45,
   "metadata": {},
   "outputs": [],
   "source": [
    "model = keras.models.Sequential() #create sequential model\n",
    "model.add(keras.layers.Flatten(input_shape=[28, 28])) #this layers flattens the input into shape (-1, 1)\n",
    "\n",
    "#Dense hidden layer w/ 300 neurons. Each neuron has matrix of connection weights to all input neurons and bias vector\n",
    "model.add(keras.layers.Dense(300, activation=\"relu\")) #computes h(X) = activation_func(XW + b); activiation_func = relu in this case\n",
    "\n",
    "model.add(keras.layers.Dense(100, activation=\"relu\")) #another dense hidden layer w/ 100 neurons\n",
    "model.add(keras.layers.Dense(10, activation=\"softmax\")) #output layer with 10 neurons (1 for each class)"
   ]
  },
  {
   "cell_type": "markdown",
   "metadata": {},
   "source": [
    "### *alternative way of instantiating a sequential model* "
   ]
  },
  {
   "cell_type": "code",
   "execution_count": 46,
   "metadata": {},
   "outputs": [],
   "source": [
    "model = keras.models.Sequential([\n",
    "    keras.layers.Flatten(input_shape=[28, 28]),\n",
    "    keras.layers.Dense(300, activation=\"relu\"),\n",
    "    keras.layers.Dense(100, activation=\"relu\"),\n",
    "    keras.layers.Dense(10, activation=\"softmax\") ## softmax because this is a multiclass classification problem (mutually exclusive classes)\n",
    "])"
   ]
  },
  {
   "cell_type": "code",
   "execution_count": 47,
   "metadata": {},
   "outputs": [
    {
     "name": "stdout",
     "output_type": "stream",
     "text": [
      "Model: \"sequential_5\"\n",
      "_________________________________________________________________\n",
      "Layer (type)                 Output Shape              Param #   \n",
      "=================================================================\n",
      "flatten_5 (Flatten)          (None, 784)               0         \n",
      "_________________________________________________________________\n",
      "dense_15 (Dense)             (None, 300)               235500    \n",
      "_________________________________________________________________\n",
      "dense_16 (Dense)             (None, 100)               30100     \n",
      "_________________________________________________________________\n",
      "dense_17 (Dense)             (None, 10)                1010      \n",
      "=================================================================\n",
      "Total params: 266,610\n",
      "Trainable params: 266,610\n",
      "Non-trainable params: 0\n",
      "_________________________________________________________________\n"
     ]
    }
   ],
   "source": [
    "model.summary()"
   ]
  },
  {
   "cell_type": "markdown",
   "metadata": {},
   "source": [
    "235500 params for first hidden layer = 784 input neurons * 300 connection weights + 300 bias terms"
   ]
  },
  {
   "cell_type": "code",
   "execution_count": 48,
   "metadata": {},
   "outputs": [
    {
     "name": "stdout",
     "output_type": "stream",
     "text": [
      "dense_15\n"
     ]
    }
   ],
   "source": [
    "hidden1 = model.layers[1]\n",
    "print(hidden1.name)"
   ]
  },
  {
   "cell_type": "code",
   "execution_count": 49,
   "metadata": {},
   "outputs": [
    {
     "data": {
      "text/plain": [
       "(784, 300)"
      ]
     },
     "execution_count": 49,
     "metadata": {},
     "output_type": "execute_result"
    }
   ],
   "source": [
    "weights, biases = hidden1.get_weights()\n",
    "weights.shape"
   ]
  },
  {
   "cell_type": "code",
   "execution_count": 50,
   "metadata": {},
   "outputs": [
    {
     "data": {
      "text/plain": [
       "(300,)"
      ]
     },
     "execution_count": 50,
     "metadata": {},
     "output_type": "execute_result"
    }
   ],
   "source": [
    "biases.shape"
   ]
  },
  {
   "cell_type": "code",
   "execution_count": 51,
   "metadata": {},
   "outputs": [
    {
     "data": {
      "text/plain": [
       "array([[ 0.02502829,  0.03634427, -0.02444338, ...,  0.06212674,\n",
       "         0.00993205, -0.01818871],\n",
       "       [ 0.03945725, -0.07127587,  0.00503649, ..., -0.00708638,\n",
       "         0.02942111,  0.00714642],\n",
       "       [-0.06993404,  0.06788419, -0.00108466, ...,  0.03778134,\n",
       "         0.04938715, -0.06785483],\n",
       "       ...,\n",
       "       [-0.05095048, -0.01721959, -0.03743255, ...,  0.01459029,\n",
       "         0.07280646, -0.05964642],\n",
       "       [ 0.0200003 ,  0.0532352 ,  0.0370244 , ..., -0.0076312 ,\n",
       "         0.00932048, -0.02185252],\n",
       "       [ 0.05292745,  0.05776621,  0.0544083 , ..., -0.05844232,\n",
       "         0.02696627,  0.04957886]], dtype=float32)"
      ]
     },
     "execution_count": 51,
     "metadata": {},
     "output_type": "execute_result"
    }
   ],
   "source": [
    "weights"
   ]
  },
  {
   "cell_type": "markdown",
   "metadata": {},
   "source": [
    "The weights of the input layer are initialized randomly to break the symmetry and conquer the enemy"
   ]
  },
  {
   "cell_type": "code",
   "execution_count": 52,
   "metadata": {},
   "outputs": [
    {
     "data": {
      "text/plain": [
       "array([0., 0., 0., 0., 0., 0., 0., 0., 0., 0., 0., 0., 0., 0., 0., 0., 0.,\n",
       "       0., 0., 0., 0., 0., 0., 0., 0., 0., 0., 0., 0., 0., 0., 0., 0., 0.,\n",
       "       0., 0., 0., 0., 0., 0., 0., 0., 0., 0., 0., 0., 0., 0., 0., 0., 0.,\n",
       "       0., 0., 0., 0., 0., 0., 0., 0., 0., 0., 0., 0., 0., 0., 0., 0., 0.,\n",
       "       0., 0., 0., 0., 0., 0., 0., 0., 0., 0., 0., 0., 0., 0., 0., 0., 0.,\n",
       "       0., 0., 0., 0., 0., 0., 0., 0., 0., 0., 0., 0., 0., 0., 0., 0., 0.,\n",
       "       0., 0., 0., 0., 0., 0., 0., 0., 0., 0., 0., 0., 0., 0., 0., 0., 0.,\n",
       "       0., 0., 0., 0., 0., 0., 0., 0., 0., 0., 0., 0., 0., 0., 0., 0., 0.,\n",
       "       0., 0., 0., 0., 0., 0., 0., 0., 0., 0., 0., 0., 0., 0., 0., 0., 0.,\n",
       "       0., 0., 0., 0., 0., 0., 0., 0., 0., 0., 0., 0., 0., 0., 0., 0., 0.,\n",
       "       0., 0., 0., 0., 0., 0., 0., 0., 0., 0., 0., 0., 0., 0., 0., 0., 0.,\n",
       "       0., 0., 0., 0., 0., 0., 0., 0., 0., 0., 0., 0., 0., 0., 0., 0., 0.,\n",
       "       0., 0., 0., 0., 0., 0., 0., 0., 0., 0., 0., 0., 0., 0., 0., 0., 0.,\n",
       "       0., 0., 0., 0., 0., 0., 0., 0., 0., 0., 0., 0., 0., 0., 0., 0., 0.,\n",
       "       0., 0., 0., 0., 0., 0., 0., 0., 0., 0., 0., 0., 0., 0., 0., 0., 0.,\n",
       "       0., 0., 0., 0., 0., 0., 0., 0., 0., 0., 0., 0., 0., 0., 0., 0., 0.,\n",
       "       0., 0., 0., 0., 0., 0., 0., 0., 0., 0., 0., 0., 0., 0., 0., 0., 0.,\n",
       "       0., 0., 0., 0., 0., 0., 0., 0., 0., 0., 0.], dtype=float32)"
      ]
     },
     "execution_count": 52,
     "metadata": {},
     "output_type": "execute_result"
    }
   ],
   "source": [
    "biases"
   ]
  },
  {
   "cell_type": "markdown",
   "metadata": {},
   "source": [
    "The biases are intialized to zero"
   ]
  },
  {
   "cell_type": "code",
   "execution_count": 53,
   "metadata": {},
   "outputs": [],
   "source": [
    "# optimizer (stochastic gradient descent) used for backpropagation. use object rather than string so that learning rate can be specified\n",
    "model.compile(loss=\"sparse_categorical_crossentropy\", optimizer=keras.optimizers.SGD(lr=0.01), metrics=[\"accuracy\"])  "
   ]
  },
  {
   "cell_type": "markdown",
   "metadata": {},
   "source": [
    "For the case of predicting fashion MNIST, using sparse_categorical_crossentropy as the loss function makes sense because the labels are sparse (range 0-9) and can be encoded into a one-hot vector ([0,0,1,0,0,0,0,0,0,0] for class 3 if it wasn't sparse. "
   ]
  },
  {
   "cell_type": "code",
   "execution_count": 54,
   "metadata": {},
   "outputs": [
    {
     "name": "stdout",
     "output_type": "stream",
     "text": [
      "Epoch 1/30\n",
      "1500/1500 [==============================] - 2s 997us/step - loss: 1.0139 - accuracy: 0.6767 - val_loss: 0.5201 - val_accuracy: 0.8251\n",
      "Epoch 2/30\n",
      "1500/1500 [==============================] - 1s 917us/step - loss: 0.5110 - accuracy: 0.8231 - val_loss: 0.4544 - val_accuracy: 0.8418\n",
      "Epoch 3/30\n",
      "1500/1500 [==============================] - 1s 962us/step - loss: 0.4549 - accuracy: 0.8386 - val_loss: 0.4360 - val_accuracy: 0.8446\n",
      "Epoch 4/30\n",
      "1500/1500 [==============================] - 1s 952us/step - loss: 0.4229 - accuracy: 0.8545 - val_loss: 0.4043 - val_accuracy: 0.8588\n",
      "Epoch 5/30\n",
      "1500/1500 [==============================] - 2s 1ms/step - loss: 0.4069 - accuracy: 0.8560 - val_loss: 0.4063 - val_accuracy: 0.8597\n",
      "Epoch 6/30\n",
      "1500/1500 [==============================] - 2s 1ms/step - loss: 0.3926 - accuracy: 0.8638 - val_loss: 0.3827 - val_accuracy: 0.8660\n",
      "Epoch 7/30\n",
      "1500/1500 [==============================] - 2s 1ms/step - loss: 0.3704 - accuracy: 0.8695 - val_loss: 0.3734 - val_accuracy: 0.8684\n",
      "Epoch 8/30\n",
      "1500/1500 [==============================] - 1s 989us/step - loss: 0.3596 - accuracy: 0.8715 - val_loss: 0.3601 - val_accuracy: 0.8727\n",
      "Epoch 9/30\n",
      "1500/1500 [==============================] - 2s 1ms/step - loss: 0.3509 - accuracy: 0.8766 - val_loss: 0.3698 - val_accuracy: 0.8703\n",
      "Epoch 10/30\n",
      "1500/1500 [==============================] - 1s 933us/step - loss: 0.3392 - accuracy: 0.8807 - val_loss: 0.3628 - val_accuracy: 0.8722\n",
      "Epoch 11/30\n",
      "1500/1500 [==============================] - 1s 933us/step - loss: 0.3306 - accuracy: 0.8809 - val_loss: 0.3495 - val_accuracy: 0.8782\n",
      "Epoch 12/30\n",
      "1500/1500 [==============================] - 1s 956us/step - loss: 0.3230 - accuracy: 0.8856 - val_loss: 0.3406 - val_accuracy: 0.8802\n",
      "Epoch 13/30\n",
      "1500/1500 [==============================] - 1s 966us/step - loss: 0.3153 - accuracy: 0.8873 - val_loss: 0.3399 - val_accuracy: 0.8791\n",
      "Epoch 14/30\n",
      "1500/1500 [==============================] - 1s 948us/step - loss: 0.3119 - accuracy: 0.8880 - val_loss: 0.3421 - val_accuracy: 0.8774\n",
      "Epoch 15/30\n",
      "1500/1500 [==============================] - 1s 948us/step - loss: 0.3041 - accuracy: 0.8898 - val_loss: 0.3289 - val_accuracy: 0.8828\n",
      "Epoch 16/30\n",
      "1500/1500 [==============================] - 1s 944us/step - loss: 0.2943 - accuracy: 0.8943 - val_loss: 0.3374 - val_accuracy: 0.8792\n",
      "Epoch 17/30\n",
      "1500/1500 [==============================] - 1s 946us/step - loss: 0.2981 - accuracy: 0.8936 - val_loss: 0.3254 - val_accuracy: 0.8832\n",
      "Epoch 18/30\n",
      "1500/1500 [==============================] - 1s 931us/step - loss: 0.2864 - accuracy: 0.8972 - val_loss: 0.3318 - val_accuracy: 0.8815\n",
      "Epoch 19/30\n",
      "1500/1500 [==============================] - 1s 937us/step - loss: 0.2807 - accuracy: 0.8988 - val_loss: 0.3295 - val_accuracy: 0.8796\n",
      "Epoch 20/30\n",
      "1500/1500 [==============================] - 1s 928us/step - loss: 0.2755 - accuracy: 0.9000 - val_loss: 0.3186 - val_accuracy: 0.8836\n",
      "Epoch 21/30\n",
      "1500/1500 [==============================] - 1s 915us/step - loss: 0.2675 - accuracy: 0.9038 - val_loss: 0.3178 - val_accuracy: 0.8849\n",
      "Epoch 22/30\n",
      "1500/1500 [==============================] - 1s 919us/step - loss: 0.2651 - accuracy: 0.9039 - val_loss: 0.3177 - val_accuracy: 0.8852\n",
      "Epoch 23/30\n",
      "1500/1500 [==============================] - 1s 922us/step - loss: 0.2608 - accuracy: 0.9039 - val_loss: 0.3111 - val_accuracy: 0.8860\n",
      "Epoch 24/30\n",
      "1500/1500 [==============================] - 1s 913us/step - loss: 0.2564 - accuracy: 0.9080 - val_loss: 0.3133 - val_accuracy: 0.8878\n",
      "Epoch 25/30\n",
      "1500/1500 [==============================] - 1s 922us/step - loss: 0.2485 - accuracy: 0.9108 - val_loss: 0.3216 - val_accuracy: 0.8835\n",
      "Epoch 26/30\n",
      "1500/1500 [==============================] - 1s 929us/step - loss: 0.2460 - accuracy: 0.9095 - val_loss: 0.3057 - val_accuracy: 0.8897\n",
      "Epoch 27/30\n",
      "1500/1500 [==============================] - 1s 913us/step - loss: 0.2447 - accuracy: 0.9125 - val_loss: 0.3118 - val_accuracy: 0.8878\n",
      "Epoch 28/30\n",
      "1500/1500 [==============================] - 1s 918us/step - loss: 0.2434 - accuracy: 0.9112 - val_loss: 0.3044 - val_accuracy: 0.8897\n",
      "Epoch 29/30\n",
      "1500/1500 [==============================] - 1s 924us/step - loss: 0.2345 - accuracy: 0.9169 - val_loss: 0.3059 - val_accuracy: 0.8884\n",
      "Epoch 30/30\n",
      "1500/1500 [==============================] - 1s 914us/step - loss: 0.2380 - accuracy: 0.9140 - val_loss: 0.3131 - val_accuracy: 0.8855\n"
     ]
    }
   ],
   "source": [
    "history = model.fit(X_train, y_train, epochs=30, validation_data=(X_val, y_val))"
   ]
  },
  {
   "cell_type": "markdown",
   "metadata": {},
   "source": [
    "#### using validation split to automatically split the training set to have a validation set w/ ratio specified"
   ]
  },
  {
   "cell_type": "code",
   "execution_count": 55,
   "metadata": {},
   "outputs": [],
   "source": [
    "#history = model.fit(X_train, y_train, epochs=30, validation_split=0.1)"
   ]
  },
  {
   "cell_type": "markdown",
   "metadata": {},
   "source": [
    "#### other parameters for fit():\n",
    "- class_weight: gives larger weight to to underrepresented classes\n",
    "- sample_weight: used to specify each instance's weight. Can be added to the validation_data tuple as a third param"
   ]
  },
  {
   "cell_type": "code",
   "execution_count": 91,
   "metadata": {},
   "outputs": [
    {
     "data": {
      "text/plain": [
       "{'verbose': 1, 'epochs': 30, 'steps': 1500}"
      ]
     },
     "execution_count": 91,
     "metadata": {},
     "output_type": "execute_result"
    }
   ],
   "source": [
    "history.params"
   ]
  },
  {
   "cell_type": "markdown",
   "metadata": {},
   "source": [
    "steps: number of batches per epoch"
   ]
  },
  {
   "cell_type": "code",
   "execution_count": 94,
   "metadata": {},
   "outputs": [
    {
     "data": {
      "image/png": "[encoded data removed]",
      "text/plain": [
       "<Figure size 576x360 with 1 Axes>"
      ]
     },
     "metadata": {
      "needs_background": "light"
     },
     "output_type": "display_data"
    }
   ],
   "source": [
    "import matplotlib.pyplot as plt\n",
    "import numpy as np\n",
    "import pandas as pd\n",
    "\n",
    "pd.DataFrame(history.history).plot(figsize=(8,5))\n",
    "plt.grid(True)\n",
    "plt.gca().set_ylim(0,1)\n",
    "plt.gca().set_xlim(1,30)\n",
    "plt.show()"
   ]
  },
  {
   "cell_type": "markdown",
   "metadata": {},
   "source": [
    "### How to improve validation accuracy\n",
    "- adjust learnin_rate of sgd optimizer\n",
    "- adjust the batch_size (default=32)\n",
    "- adjust neurons per layer\n",
    "- adjust number of layers"
   ]
  },
  {
   "cell_type": "code",
   "execution_count": 102,
   "metadata": {},
   "outputs": [
    {
     "name": "stdout",
     "output_type": "stream",
     "text": [
      "313/313 [==============================] - 0s 934us/step - loss: 0.3386 - accuracy: 0.8817\n"
     ]
    },
    {
     "data": {
      "text/plain": [
       "[0.3385784924030304, 0.8816999793052673]"
      ]
     },
     "execution_count": 102,
     "metadata": {},
     "output_type": "execute_result"
    }
   ],
   "source": [
    "model.evaluate(X_test, y_test)"
   ]
  },
  {
   "cell_type": "code",
   "execution_count": 109,
   "metadata": {},
   "outputs": [
    {
     "data": {
      "text/plain": [
       "array([[0.  , 0.  , 0.  , 0.  , 0.  , 0.02, 0.  , 0.07, 0.  , 0.91],\n",
       "       [0.  , 0.  , 0.99, 0.  , 0.  , 0.  , 0.  , 0.  , 0.  , 0.  ],\n",
       "       [0.  , 1.  , 0.  , 0.  , 0.  , 0.  , 0.  , 0.  , 0.  , 0.  ]],\n",
       "      dtype=float32)"
      ]
     },
     "execution_count": 109,
     "metadata": {},
     "output_type": "execute_result"
    }
   ],
   "source": [
    "X_new = X_test[:3]\n",
    "y_proba = model.predict(X_new)\n",
    "y_proba.round(2) # round to decimal places"
   ]
  },
  {
   "cell_type": "markdown",
   "metadata": {},
   "source": [
    "The model estimates the probability that an instance belongs to all classes"
   ]
  },
  {
   "cell_type": "code",
   "execution_count": 121,
   "metadata": {},
   "outputs": [
    {
     "data": {
      "text/plain": [
       "1.0"
      ]
     },
     "execution_count": 121,
     "metadata": {},
     "output_type": "execute_result"
    }
   ],
   "source": [
    "from sklearn.metrics import accuracy_score\n",
    "\n",
    "y_pred = model.predict_classes(X_new)\n",
    "accuracy_score(y_test[:3], y_pred)"
   ]
  },
  {
   "cell_type": "code",
   "execution_count": null,
   "metadata": {},
   "outputs": [],
   "source": []
  }
 ],
 "metadata": {
  "kernelspec": {
   "display_name": "env",
   "language": "python",
   "name": "env"
  },
  "language_info": {
   "codemirror_mode": {
    "name": "ipython",
    "version": 3
   },
   "file_extension": ".py",
   "mimetype": "text/x-python",
   "name": "python",
   "nbconvert_exporter": "python",
   "pygments_lexer": "ipython3",
   "version": "3.8.5"
  }
 },
 "nbformat": 4,
 "nbformat_minor": 4
}
