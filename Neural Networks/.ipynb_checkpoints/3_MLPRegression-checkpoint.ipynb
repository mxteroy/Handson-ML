{
 "cells": [
  {
   "cell_type": "code",
   "execution_count": 43,
   "metadata": {},
   "outputs": [],
   "source": [
    "from sklearn.datasets import fetch_california_housing\n",
    "\n",
    "housing = fetch_california_housing()"
   ]
  },
  {
   "cell_type": "code",
   "execution_count": 44,
   "metadata": {},
   "outputs": [
    {
     "data": {
      "text/plain": [
       "{'data': array([[   8.3252    ,   41.        ,    6.98412698, ...,    2.55555556,\n",
       "           37.88      , -122.23      ],\n",
       "        [   8.3014    ,   21.        ,    6.23813708, ...,    2.10984183,\n",
       "           37.86      , -122.22      ],\n",
       "        [   7.2574    ,   52.        ,    8.28813559, ...,    2.80225989,\n",
       "           37.85      , -122.24      ],\n",
       "        ...,\n",
       "        [   1.7       ,   17.        ,    5.20554273, ...,    2.3256351 ,\n",
       "           39.43      , -121.22      ],\n",
       "        [   1.8672    ,   18.        ,    5.32951289, ...,    2.12320917,\n",
       "           39.43      , -121.32      ],\n",
       "        [   2.3886    ,   16.        ,    5.25471698, ...,    2.61698113,\n",
       "           39.37      , -121.24      ]]),\n",
       " 'target': array([4.526, 3.585, 3.521, ..., 0.923, 0.847, 0.894]),\n",
       " 'frame': None,\n",
       " 'target_names': ['MedHouseVal'],\n",
       " 'feature_names': ['MedInc',\n",
       "  'HouseAge',\n",
       "  'AveRooms',\n",
       "  'AveBedrms',\n",
       "  'Population',\n",
       "  'AveOccup',\n",
       "  'Latitude',\n",
       "  'Longitude'],\n",
       " 'DESCR': '.. _california_housing_dataset:\\n\\nCalifornia Housing dataset\\n--------------------------\\n\\n**Data Set Characteristics:**\\n\\n    :Number of Instances: 20640\\n\\n    :Number of Attributes: 8 numeric, predictive attributes and the target\\n\\n    :Attribute Information:\\n        - MedInc        median income in block\\n        - HouseAge      median house age in block\\n        - AveRooms      average number of rooms\\n        - AveBedrms     average number of bedrooms\\n        - Population    block population\\n        - AveOccup      average house occupancy\\n        - Latitude      house block latitude\\n        - Longitude     house block longitude\\n\\n    :Missing Attribute Values: None\\n\\nThis dataset was obtained from the StatLib repository.\\nhttp://lib.stat.cmu.edu/datasets/\\n\\nThe target variable is the median house value for California districts.\\n\\nThis dataset was derived from the 1990 U.S. census, using one row per census\\nblock group. A block group is the smallest geographical unit for which the U.S.\\nCensus Bureau publishes sample data (a block group typically has a population\\nof 600 to 3,000 people).\\n\\nIt can be downloaded/loaded using the\\n:func:`sklearn.datasets.fetch_california_housing` function.\\n\\n.. topic:: References\\n\\n    - Pace, R. Kelley and Ronald Barry, Sparse Spatial Autoregressions,\\n      Statistics and Probability Letters, 33 (1997) 291-297\\n'}"
      ]
     },
     "execution_count": 44,
     "metadata": {},
     "output_type": "execute_result"
    }
   ],
   "source": [
    "housing"
   ]
  },
  {
   "cell_type": "code",
   "execution_count": 45,
   "metadata": {},
   "outputs": [],
   "source": [
    "from sklearn.model_selection import train_test_split\n",
    "from sklearn.preprocessing import StandardScaler\n",
    "\n",
    "X_train_full, X_test, y_test_full, y_test = train_test_split(housing.data, housing.target)\n",
    "X_train, X_val, y_train, y_val = train_test_split(X_train_full, y_test_full)"
   ]
  },
  {
   "cell_type": "code",
   "execution_count": 46,
   "metadata": {},
   "outputs": [],
   "source": [
    "scaler = StandardScaler()\n",
    "X_train = scaler.fit_transform(X_train)\n",
    "X_val = scaler.transform(X_val)\n",
    "X_test = scaler.transform(X_test)"
   ]
  },
  {
   "cell_type": "code",
   "execution_count": 88,
   "metadata": {},
   "outputs": [],
   "source": [
    "from tensorflow.keras.models import Sequential\n",
    "from tensorflow.keras.layers import Dense\n",
    "from tensorflow.keras.optimizers import SGD\n",
    "\n",
    "model = Sequential([\n",
    "    # don't need to flatten because it already has features defined and each instance is one row\n",
    "    Dense(30, activation=\"relu\", input_shape=X_train.shape[1:]), # input_shape = # of features\n",
    "    Dense(1)\n",
    "])\n",
    "\n",
    "model.compile(loss=\"mean_squared_error\", optimizer=SGD(lr=0.01))"
   ]
  },
  {
   "cell_type": "code",
   "execution_count": 89,
   "metadata": {},
   "outputs": [
    {
     "name": "stdout",
     "output_type": "stream",
     "text": [
      "Epoch 1/20\n",
      "363/363 [==============================] - 0s 782us/step - loss: 1.0911 - val_loss: 0.4880\n",
      "Epoch 2/20\n",
      "363/363 [==============================] - 0s 623us/step - loss: 0.5461 - val_loss: 0.4392\n",
      "Epoch 3/20\n",
      "363/363 [==============================] - 0s 630us/step - loss: 0.4560 - val_loss: 0.4255\n",
      "Epoch 4/20\n",
      "363/363 [==============================] - 0s 622us/step - loss: 0.4268 - val_loss: 0.4119\n",
      "Epoch 5/20\n",
      "363/363 [==============================] - 0s 631us/step - loss: 0.4443 - val_loss: 0.4076\n",
      "Epoch 6/20\n",
      "363/363 [==============================] - 0s 628us/step - loss: 0.4228 - val_loss: 0.3945\n",
      "Epoch 7/20\n",
      "363/363 [==============================] - 0s 613us/step - loss: 0.4053 - val_loss: 0.3882\n",
      "Epoch 8/20\n",
      "363/363 [==============================] - 0s 648us/step - loss: 0.4104 - val_loss: 0.3848\n",
      "Epoch 9/20\n",
      "363/363 [==============================] - 0s 641us/step - loss: 0.4044 - val_loss: 0.3843\n",
      "Epoch 10/20\n",
      "363/363 [==============================] - 0s 625us/step - loss: 0.3879 - val_loss: 0.3861\n",
      "Epoch 11/20\n",
      "363/363 [==============================] - 0s 614us/step - loss: 0.4016 - val_loss: 0.3987\n",
      "Epoch 12/20\n",
      "363/363 [==============================] - 0s 622us/step - loss: 0.4017 - val_loss: 0.3740\n",
      "Epoch 13/20\n",
      "363/363 [==============================] - 0s 629us/step - loss: 0.3709 - val_loss: 0.3743\n",
      "Epoch 14/20\n",
      "363/363 [==============================] - 0s 623us/step - loss: 0.3981 - val_loss: 0.3656\n",
      "Epoch 15/20\n",
      "363/363 [==============================] - 0s 618us/step - loss: 0.3922 - val_loss: 0.3664\n",
      "Epoch 16/20\n",
      "363/363 [==============================] - 0s 614us/step - loss: 0.3958 - val_loss: 0.3626\n",
      "Epoch 17/20\n",
      "363/363 [==============================] - 0s 617us/step - loss: 0.3937 - val_loss: 0.3575\n",
      "Epoch 18/20\n",
      "363/363 [==============================] - 0s 612us/step - loss: 0.3653 - val_loss: 0.3642\n",
      "Epoch 19/20\n",
      "363/363 [==============================] - 0s 619us/step - loss: 0.3654 - val_loss: 0.3634\n",
      "Epoch 20/20\n",
      "363/363 [==============================] - 0s 611us/step - loss: 0.3936 - val_loss: 0.3623\n"
     ]
    }
   ],
   "source": [
    "history = model.fit(X_train, y_train, epochs=20, validation_data=(X_val, y_val))"
   ]
  },
  {
   "cell_type": "code",
   "execution_count": 93,
   "metadata": {},
   "outputs": [
    {
     "data": {
      "image/png": "[encoded data removed]",
      "text/plain": [
       "<Figure size 432x288 with 1 Axes>"
      ]
     },
     "metadata": {
      "needs_background": "light"
     },
     "output_type": "display_data"
    }
   ],
   "source": [
    "import matplotlib.pyplot as plt\n",
    "import pandas as pd\n",
    "\n",
    "plt.plot(pd.DataFrame(history.history))\n",
    "plt.grid(True)\n",
    "plt.gca().set_ylim(0, 1)\n",
    "plt.show()"
   ]
  },
  {
   "cell_type": "code",
   "execution_count": null,
   "metadata": {},
   "outputs": [],
   "source": []
  }
 ],
 "metadata": {
  "kernelspec": {
   "display_name": "env",
   "language": "python",
   "name": "env"
  },
  "language_info": {
   "codemirror_mode": {
    "name": "ipython",
    "version": 3
   },
   "file_extension": ".py",
   "mimetype": "text/x-python",
   "name": "python",
   "nbconvert_exporter": "python",
   "pygments_lexer": "ipython3",
   "version": "3.8.5"
  }
 },
 "nbformat": 4,
 "nbformat_minor": 4
}
