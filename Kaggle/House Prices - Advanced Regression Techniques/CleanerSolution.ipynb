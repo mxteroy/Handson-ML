{
 "cells": [
  {
   "cell_type": "code",
   "execution_count": 927,
   "metadata": {},
   "outputs": [],
   "source": [
    "import pandas as pd\n",
    "import os\n",
    "import numpy as np\n",
    "\n",
    "train_data = pd.read_csv(\"./datasets/train.csv\")\n",
    "x_test_df = pd.read_csv(\"./datasets/test.csv\")"
   ]
  },
  {
   "cell_type": "code",
   "execution_count": 928,
   "metadata": {},
   "outputs": [],
   "source": [
    "x_train_df, y_train_df = train_data.loc[:, train_data.columns != \"SalePrice\"], train_data.loc[:, \"SalePrice\"]\n",
    "\n",
    "\n",
    "x_train_ids = x_train_df['Id']\n",
    "x_test_ids = x_test_df['Id']"
   ]
  },
  {
   "cell_type": "code",
   "execution_count": 929,
   "metadata": {},
   "outputs": [
    {
     "name": "stdout",
     "output_type": "stream",
     "text": [
      "<class 'pandas.core.frame.DataFrame'>\n",
      "RangeIndex: 1460 entries, 0 to 1459\n",
      "Data columns (total 80 columns):\n",
      " #   Column         Non-Null Count  Dtype  \n",
      "---  ------         --------------  -----  \n",
      " 0   Id             1460 non-null   int64  \n",
      " 1   MSSubClass     1460 non-null   int64  \n",
      " 2   MSZoning       1460 non-null   object \n",
      " 3   LotFrontage    1201 non-null   float64\n",
      " 4   LotArea        1460 non-null   int64  \n",
      " 5   Street         1460 non-null   object \n",
      " 6   Alley          91 non-null     object \n",
      " 7   LotShape       1460 non-null   object \n",
      " 8   LandContour    1460 non-null   object \n",
      " 9   Utilities      1460 non-null   object \n",
      " 10  LotConfig      1460 non-null   object \n",
      " 11  LandSlope      1460 non-null   object \n",
      " 12  Neighborhood   1460 non-null   object \n",
      " 13  Condition1     1460 non-null   object \n",
      " 14  Condition2     1460 non-null   object \n",
      " 15  BldgType       1460 non-null   object \n",
      " 16  HouseStyle     1460 non-null   object \n",
      " 17  OverallQual    1460 non-null   int64  \n",
      " 18  OverallCond    1460 non-null   int64  \n",
      " 19  YearBuilt      1460 non-null   int64  \n",
      " 20  YearRemodAdd   1460 non-null   int64  \n",
      " 21  RoofStyle      1460 non-null   object \n",
      " 22  RoofMatl       1460 non-null   object \n",
      " 23  Exterior1st    1460 non-null   object \n",
      " 24  Exterior2nd    1460 non-null   object \n",
      " 25  MasVnrType     1452 non-null   object \n",
      " 26  MasVnrArea     1452 non-null   float64\n",
      " 27  ExterQual      1460 non-null   object \n",
      " 28  ExterCond      1460 non-null   object \n",
      " 29  Foundation     1460 non-null   object \n",
      " 30  BsmtQual       1423 non-null   object \n",
      " 31  BsmtCond       1423 non-null   object \n",
      " 32  BsmtExposure   1422 non-null   object \n",
      " 33  BsmtFinType1   1423 non-null   object \n",
      " 34  BsmtFinSF1     1460 non-null   int64  \n",
      " 35  BsmtFinType2   1422 non-null   object \n",
      " 36  BsmtFinSF2     1460 non-null   int64  \n",
      " 37  BsmtUnfSF      1460 non-null   int64  \n",
      " 38  TotalBsmtSF    1460 non-null   int64  \n",
      " 39  Heating        1460 non-null   object \n",
      " 40  HeatingQC      1460 non-null   object \n",
      " 41  CentralAir     1460 non-null   object \n",
      " 42  Electrical     1459 non-null   object \n",
      " 43  1stFlrSF       1460 non-null   int64  \n",
      " 44  2ndFlrSF       1460 non-null   int64  \n",
      " 45  LowQualFinSF   1460 non-null   int64  \n",
      " 46  GrLivArea      1460 non-null   int64  \n",
      " 47  BsmtFullBath   1460 non-null   int64  \n",
      " 48  BsmtHalfBath   1460 non-null   int64  \n",
      " 49  FullBath       1460 non-null   int64  \n",
      " 50  HalfBath       1460 non-null   int64  \n",
      " 51  BedroomAbvGr   1460 non-null   int64  \n",
      " 52  KitchenAbvGr   1460 non-null   int64  \n",
      " 53  KitchenQual    1460 non-null   object \n",
      " 54  TotRmsAbvGrd   1460 non-null   int64  \n",
      " 55  Functional     1460 non-null   object \n",
      " 56  Fireplaces     1460 non-null   int64  \n",
      " 57  FireplaceQu    770 non-null    object \n",
      " 58  GarageType     1379 non-null   object \n",
      " 59  GarageYrBlt    1379 non-null   float64\n",
      " 60  GarageFinish   1379 non-null   object \n",
      " 61  GarageCars     1460 non-null   int64  \n",
      " 62  GarageArea     1460 non-null   int64  \n",
      " 63  GarageQual     1379 non-null   object \n",
      " 64  GarageCond     1379 non-null   object \n",
      " 65  PavedDrive     1460 non-null   object \n",
      " 66  WoodDeckSF     1460 non-null   int64  \n",
      " 67  OpenPorchSF    1460 non-null   int64  \n",
      " 68  EnclosedPorch  1460 non-null   int64  \n",
      " 69  3SsnPorch      1460 non-null   int64  \n",
      " 70  ScreenPorch    1460 non-null   int64  \n",
      " 71  PoolArea       1460 non-null   int64  \n",
      " 72  PoolQC         7 non-null      object \n",
      " 73  Fence          281 non-null    object \n",
      " 74  MiscFeature    54 non-null     object \n",
      " 75  MiscVal        1460 non-null   int64  \n",
      " 76  MoSold         1460 non-null   int64  \n",
      " 77  YrSold         1460 non-null   int64  \n",
      " 78  SaleType       1460 non-null   object \n",
      " 79  SaleCondition  1460 non-null   object \n",
      "dtypes: float64(3), int64(34), object(43)\n",
      "memory usage: 912.6+ KB\n"
     ]
    }
   ],
   "source": [
    "x_train_df.info()"
   ]
  },
  {
   "cell_type": "code",
   "execution_count": 930,
   "metadata": {},
   "outputs": [
    {
     "data": {
      "image/png": "[encoded data removed]",
      "text/plain": [
       "<Figure size 432x288 with 1 Axes>"
      ]
     },
     "metadata": {
      "needs_background": "light"
     },
     "output_type": "display_data"
    }
   ],
   "source": [
    "import matplotlib.pyplot as plt\n",
    "\n",
    "plt.scatter(x_train_df[\"OverallQual\"], y_train_df)\n",
    "plt.ylabel(\"OverallQual\")\n",
    "plt.show()"
   ]
  },
  {
   "cell_type": "code",
   "execution_count": 931,
   "metadata": {},
   "outputs": [
    {
     "data": {
      "image/png": "[encoded data removed]",
      "text/plain": [
       "<Figure size 432x288 with 1 Axes>"
      ]
     },
     "metadata": {
      "needs_background": "light"
     },
     "output_type": "display_data"
    }
   ],
   "source": [
    "plt.hist(y_train_df, bins=100)\n",
    "plt.xlabel(\"SalePrice\")\n",
    "plt.ylabel(\"count\")\n",
    "plt.show()"
   ]
  },
  {
   "cell_type": "code",
   "execution_count": 932,
   "metadata": {},
   "outputs": [
    {
     "data": {
      "image/png": "[encoded data removed]",
      "text/plain": [
       "<Figure size 576x288 with 1 Axes>"
      ]
     },
     "metadata": {
      "needs_background": "light"
     },
     "output_type": "display_data"
    }
   ],
   "source": [
    "plt.figure(figsize=(8, 4))\n",
    "plt.scatter(x_train_df[\"GrLivArea\"], y_train_df)\n",
    "plt.xlabel(\"GrLivArea\")\n",
    "plt.ylabel(\"SalePrice\")\n",
    "plt.show()"
   ]
  },
  {
   "cell_type": "code",
   "execution_count": 933,
   "metadata": {},
   "outputs": [
    {
     "data": {
      "image/png": "[encoded data removed]",
      "text/plain": [
       "<Figure size 576x288 with 1 Axes>"
      ]
     },
     "metadata": {
      "needs_background": "light"
     },
     "output_type": "display_data"
    }
   ],
   "source": [
    "plt.figure(figsize=(8, 4))\n",
    "plt.scatter(x_train_df[\"LotArea\"], y_train_df)\n",
    "plt.xlabel(\"LotArea\")\n",
    "plt.ylabel(\"SalePrice\")\n",
    "plt.show()"
   ]
  },
  {
   "cell_type": "code",
   "execution_count": 934,
   "metadata": {},
   "outputs": [
    {
     "data": {
      "image/png": "[encoded data removed]",
      "text/plain": [
       "<Figure size 576x288 with 1 Axes>"
      ]
     },
     "metadata": {
      "needs_background": "light"
     },
     "output_type": "display_data"
    }
   ],
   "source": [
    "plt.figure(figsize=(8, 4))\n",
    "plt.scatter(x_train_df[\"2ndFlrSF\"], y_train_df)\n",
    "plt.xlabel(\"2ndFlrSF\")\n",
    "plt.ylabel(\"SalePrice\")\n",
    "plt.show()"
   ]
  },
  {
   "cell_type": "code",
   "execution_count": 935,
   "metadata": {},
   "outputs": [
    {
     "name": "stdout",
     "output_type": "stream",
     "text": [
      "(1459, 80)\n"
     ]
    }
   ],
   "source": [
    "columns_to_drop = ['Id', 'PoolQC', 'Alley', 'MiscFeature']\n",
    "print( x_test_df.shape)"
   ]
  },
  {
   "cell_type": "code",
   "execution_count": 936,
   "metadata": {},
   "outputs": [],
   "source": [
    "def combine_features(data):\n",
    "    data[\"TotalSF\"] = data[\"GrLivArea\"] + data[\"TotalBsmtSF\"]\n",
    "    data[\"TotalPorchSF\"] = data[\"OpenPorchSF\"] + data[\"EnclosedPorch\"] + data[\"3SsnPorch\"] + data[\"ScreenPorch\"]\n",
    "    data[\"TotalBath\"] = data[\"FullBath\"] + data[\"BsmtFullBath\"] + (data[\"BsmtHalfBath\"] + data[\"HalfBath\"])*0.5\n",
    "    return data\n",
    "\n",
    "x_train_df = combine_features(x_train_df)\n",
    "x_test_df = combine_features(x_test_df)\n",
    "\n",
    "columns_to_drop += [\"GrLivArea\", \"TotalBsmtSF\", \"OpenPorchSF\", \"EnclosedPorch\",\"3SsnPorch\", \"ScreenPorch\", \"FullBath\", \"BsmtFullBath\", \"BsmtHalfBath\", \"HalfBath\"]"
   ]
  },
  {
   "cell_type": "markdown",
   "metadata": {},
   "source": [
    "Drop the instances where GrLivArea is greater than 4500 because they are anomalies"
   ]
  },
  {
   "cell_type": "code",
   "execution_count": 937,
   "metadata": {},
   "outputs": [],
   "source": [
    "y_train_df = y_train_df[x_train_df[\"GrLivArea\"] < 4500]\n",
    "x_train_df = x_train_df[x_train_df[\"GrLivArea\"] < 4500]\n",
    "y_train_df = y_train_df[x_train_df[\"LotArea\"] < 80000]\n",
    "x_train_df = x_train_df[x_train_df[\"LotArea\"] < 80000]\n",
    "y_train_df = y_train_df[x_train_df[\"TotalBsmtSF\"] < 3000]\n",
    "x_train_df = x_train_df[x_train_df[\"TotalBsmtSF\"] < 3000]\n",
    "y_train_df = y_train_df[x_train_df[\"1stFlrSF\"] < 4000]\n",
    "x_train_df = x_train_df[x_train_df[\"1stFlrSF\"] < 4000]\n",
    "# y_train_df = y_train_df[x_train_df[\"2ndFlrSF\"] > 0]\n",
    "# x_train_df = x_train_df[x_train_df[\"2ndFlrSF\"] > 0]"
   ]
  },
  {
   "cell_type": "markdown",
   "metadata": {},
   "source": [
    "MoSold is a cyclical feature [Explained here](http://blog.davidkaleko.com/feature-engineering-cyclical-features.html)\n",
    "- Basically the cyclical features are not scaled properly, in features such as \"hour\" (0-23), the 'highest' value 23 will be considered far from 0 even though they are right next to each other on the clock."
   ]
  },
  {
   "cell_type": "code",
   "execution_count": 938,
   "metadata": {},
   "outputs": [],
   "source": [
    "x_train_df[\"MoSold_sin\"] = np.sin((x_train_df.MoSold-1)*(2.*np.pi/12))\n",
    "x_train_df[\"MoSold_cos\"] = np.cos((x_train_df.MoSold-1)*(2.*np.pi/12))\n",
    "x_test_df[\"MoSold_sin\"] = np.sin((x_test_df.MoSold-1)*(2.*np.pi/12))\n",
    "x_test_df[\"MoSold_cos\"] = np.cos((x_test_df.MoSold-1)*(2.*np.pi/12))\n",
    "\n",
    "columns_to_drop.append(\"MoSold\")"
   ]
  },
  {
   "cell_type": "markdown",
   "metadata": {},
   "source": [
    "Pipelines to scale and impute numerical data"
   ]
  },
  {
   "cell_type": "code",
   "execution_count": 939,
   "metadata": {},
   "outputs": [
    {
     "name": "stdout",
     "output_type": "stream",
     "text": [
      "['Id', 'PoolQC', 'Alley', 'MiscFeature', 'GrLivArea', 'TotalBsmtSF', 'OpenPorchSF', 'EnclosedPorch', '3SsnPorch', 'ScreenPorch', 'FullBath', 'BsmtFullBath', 'BsmtHalfBath', 'HalfBath', 'MoSold']\n"
     ]
    }
   ],
   "source": [
    "print(columns_to_drop)\n",
    "x_train_df = x_train_df.drop(columns=columns_to_drop)\n",
    "x_test_df = x_test_df.drop(columns=columns_to_drop)"
   ]
  },
  {
   "cell_type": "code",
   "execution_count": 940,
   "metadata": {},
   "outputs": [],
   "source": [
    "num_attribs = x_train_df.select_dtypes(np.number).columns.tolist()\n",
    "cat_attribs = x_train_df.select_dtypes('object').columns.tolist()"
   ]
  },
  {
   "cell_type": "markdown",
   "metadata": {},
   "source": [
    "Drop numerical attributes that have high skewness"
   ]
  },
  {
   "cell_type": "code",
   "execution_count": 941,
   "metadata": {},
   "outputs": [],
   "source": [
    "# from scipy.stats import skew\n",
    "# x_train_df_skew = x_train_df[num_attribs].apply(lambda x: skew(x.dropna()))\n",
    "# x_train_df_skew = x_train_df_skew[x_train_df_skew > 0.75]\n",
    "\n",
    "# #apply log + 1 transformation for all numeric columns with skewness over 1\n",
    "# # a skewness above 1 means high skewness\n",
    "# x_train_df[x_train_df_skew.index] = np.log1p(x_train_df[x_train_df_skew.index])"
   ]
  },
  {
   "cell_type": "code",
   "execution_count": 942,
   "metadata": {},
   "outputs": [],
   "source": [
    "x_train_df[cat_attribs] = x_train_df[cat_attribs].apply(lambda x: x.fillna(\"None\"))\n",
    "x_test_df[cat_attribs] = x_test_df[cat_attribs].apply(lambda x: x.fillna(\"None\"))"
   ]
  },
  {
   "cell_type": "code",
   "execution_count": 943,
   "metadata": {},
   "outputs": [],
   "source": [
    "from sklearn.compose import ColumnTransformer\n",
    "from sklearn.preprocessing import OrdinalEncoder\n",
    "from sklearn.preprocessing import StandardScaler\n",
    "from sklearn.impute import SimpleImputer\n",
    "from sklearn.pipeline import Pipeline\n",
    "\n",
    "from sklearn.base import BaseEstimator, TransformerMixin\n",
    "\n",
    "class MostFrequentImputer(BaseEstimator, TransformerMixin):\n",
    "    def fit(self, X, y=None):\n",
    "        self.most_frequent_ = pd.Series([X[c].value_counts().index[0] for c in X], index=X.columns)\n",
    "        return self\n",
    "    def transform(self, X, y=None):\n",
    "        return X.fillna(self.most_frequent_)\n",
    "\n",
    "num_pipeline = Pipeline([\n",
    "    ('imputer', SimpleImputer(strategy=\"median\")),\n",
    "    ('scaler', StandardScaler()), #scale the data using the dataset w/o nums\n",
    "])\n",
    "\n",
    "cat_pipeline = Pipeline([\n",
    "    ('imputer', MostFrequentImputer()),\n",
    "    ('labels', OrdinalEncoder()),\n",
    "    #('cat',  OneHotEncoder(sparse=False)) #one-hot encode the columns in the dataset\n",
    "])\n",
    "\n",
    "def get_prepared_data():\n",
    "    return ColumnTransformer(transformers=[\n",
    "        ('num', num_pipeline, num_attribs),\n",
    "        ('cat', cat_pipeline, cat_attribs) #one-hot encode the columns in the dataset\n",
    "    ])"
   ]
  },
  {
   "cell_type": "code",
   "execution_count": 944,
   "metadata": {},
   "outputs": [],
   "source": [
    "x_train = get_prepared_data().fit_transform(x_train_df)\n",
    "x_test = get_prepared_data().fit_transform(x_test_df)\n",
    "y_train = list(y_train_df)"
   ]
  },
  {
   "cell_type": "code",
   "execution_count": 945,
   "metadata": {},
   "outputs": [
    {
     "data": {
      "text/plain": [
       "GradientBoostingRegressor(learning_rate=0.01, max_depth=8, n_estimators=580,\n",
       "                          subsample=0.1)"
      ]
     },
     "execution_count": 945,
     "metadata": {},
     "output_type": "execute_result"
    }
   ],
   "source": [
    "from sklearn.ensemble import GradientBoostingRegressor\n",
    "\n",
    "gb_reg = GradientBoostingRegressor(subsample=0.1, max_depth=8, n_estimators=580, learning_rate=0.01)\n",
    "gb_reg.fit(x_train, y_train)"
   ]
  },
  {
   "cell_type": "code",
   "execution_count": 946,
   "metadata": {},
   "outputs": [],
   "source": [
    "def output_to_csv(filename, predictions):\n",
    "    res = pd.DataFrame({'Id': x_test_ids, 'SalePrice': predictions})\n",
    "    res.to_csv(filename+'.csv', index=False)"
   ]
  },
  {
   "cell_type": "code",
   "execution_count": 947,
   "metadata": {},
   "outputs": [],
   "source": [
    "output_to_csv('gb_reg_out', gb_reg.predict(x_test))"
   ]
  },
  {
   "cell_type": "code",
   "execution_count": 948,
   "metadata": {},
   "outputs": [
    {
     "data": {
      "text/plain": [
       "XGBRegressor(base_score=0.5, booster='gbtree', colsample_bylevel=1,\n",
       "             colsample_bynode=1, colsample_bytree=1, gamma=0, gpu_id=-1,\n",
       "             importance_type='gain', interaction_constraints='',\n",
       "             learning_rate=0.300000012, max_delta_step=0, max_depth=6,\n",
       "             min_child_weight=1, missing=nan, monotone_constraints='()',\n",
       "             n_estimators=100, n_jobs=16, num_parallel_tree=1, random_state=0,\n",
       "             reg_alpha=0, reg_lambda=1, scale_pos_weight=1, subsample=1,\n",
       "             tree_method='exact', validate_parameters=1, verbosity=None)"
      ]
     },
     "execution_count": 948,
     "metadata": {},
     "output_type": "execute_result"
    }
   ],
   "source": [
    "from xgboost import XGBRegressor\n",
    "\n",
    "xgb_reg = XGBRegressor()\n",
    "xgb_reg.fit(x_train, y_train)"
   ]
  },
  {
   "cell_type": "code",
   "execution_count": 949,
   "metadata": {},
   "outputs": [],
   "source": [
    "from sklearn.svm import SVR\n",
    "from sklearn.linear_model import Lasso, Ridge, ElasticNet\n",
    "\n",
    "xgb_model = XGBRegressor(colsample_bytree=0.25, gamma=0.0, learning_rate=0.01, max_depth=3,\n",
    "                             n_estimators=15000, n_jobs=-1, random_state=42, \n",
    "                             reg_alpha=0.24206673672530965, reg_lambda=0.40464485640717085, subsample=1.0)\n",
    "\n",
    "svr_model = SVR(C=0.7682824405204463, coef0=0.0001, degree=2, epsilon=0.0001, gamma=0.0042151786393578635, max_iter=10000)\n",
    "\n",
    "lasso_model = Lasso(alpha=0.00012609086150256233, max_iter=5000, random_state=42)\n",
    "\n",
    "ridge_model = Ridge(alpha=2.651347536470113, max_iter=5000, random_state=42)\n",
    "\n",
    "enet_model = ElasticNet(alpha=0.0002286518512853544, l1_ratio=0.6510386358323069, max_iter=10000, random_state=42)"
   ]
  },
  {
   "cell_type": "code",
   "execution_count": 950,
   "metadata": {},
   "outputs": [],
   "source": [
    "from sklearn.ensemble import StackingRegressor, VotingRegressor\n",
    "from sklearn.svm import SVR\n",
    "\n",
    "estimators = [\n",
    "    ('gb reg', GradientBoostingRegressor(subsample=0.1, max_depth=8, n_estimators=580, learning_rate=0.01)),\n",
    "    ('xgb reg', XGBRegressor(colsample_bytree=0.4,\n",
    "                         gamma=0,                 \n",
    "                         learning_rate=0.07,\n",
    "                         max_depth=3,\n",
    "                         min_child_weight=1.5,\n",
    "                         n_estimators=10000,                                                                    \n",
    "                         reg_alpha=0.75,\n",
    "                         reg_lambda=0.45,\n",
    "                         subsample=0.6,\n",
    "                         seed=42)),\n",
    "    ('svm reg', svr_model),\n",
    "#     ('lasso', lasso_model),\n",
    "    ('ridge', ridge_model),\n",
    "#     ('enet_model', enet_model)\n",
    "]\n",
    "\n",
    "stacking_reg = StackingRegressor(estimators=estimators)"
   ]
  },
  {
   "cell_type": "code",
   "execution_count": 951,
   "metadata": {},
   "outputs": [],
   "source": [
    "# stacking_reg.fit(x_train, y_train)"
   ]
  },
  {
   "cell_type": "code",
   "execution_count": 952,
   "metadata": {},
   "outputs": [],
   "source": [
    "# output_to_csv('stacking_reg_out', stacking_reg.predict(x_test))"
   ]
  },
  {
   "cell_type": "code",
   "execution_count": 953,
   "metadata": {},
   "outputs": [],
   "source": [
    "from sklearn.model_selection import cross_val_score, ShuffleSplit\n",
    "\n",
    "cv = ShuffleSplit(n_splits=5, test_size=0.3, random_state=0)\n",
    "# cross_val_score(StackingRegressor(estimators=estimators), x_train, y_train, cv=cv)"
   ]
  },
  {
   "cell_type": "code",
   "execution_count": 954,
   "metadata": {},
   "outputs": [
    {
     "data": {
      "text/plain": [
       "XGBRegressor(base_score=0.5, booster='gbtree', colsample_bylevel=1,\n",
       "             colsample_bynode=1, colsample_bytree=0.4, gamma=0, gpu_id=-1,\n",
       "             importance_type='gain', interaction_constraints='',\n",
       "             learning_rate=0.07, max_delta_step=0, max_depth=3,\n",
       "             min_child_weight=1.5, missing=nan, monotone_constraints='()',\n",
       "             n_estimators=10000, n_jobs=16, num_parallel_tree=1,\n",
       "             random_state=42, reg_alpha=0.75, reg_lambda=0.45,\n",
       "             scale_pos_weight=1, seed=42, subsample=0.6, tree_method='exact',\n",
       "             validate_parameters=1, verbosity=None)"
      ]
     },
     "execution_count": 954,
     "metadata": {},
     "output_type": "execute_result"
    }
   ],
   "source": [
    "# cross_val_score(XGBRegressor(colsample_bytree=0.4,\n",
    "#                          gamma=0,                 \n",
    "#                          learning_rate=0.07,\n",
    "#                          max_depth=3,\n",
    "#                          min_child_weight=1.5,\n",
    "#                          n_estimators=10000,                                                                    \n",
    "#                          reg_alpha=0.75,\n",
    "#                          reg_lambda=0.45,\n",
    "#                          subsample=0.6,\n",
    "#                          seed=42), x_train, y_train, cv=cv)\n",
    "\n",
    "xgb_reg = XGBRegressor(colsample_bytree=0.4,\n",
    "                         gamma=0,                 \n",
    "                         learning_rate=0.07,\n",
    "                         max_depth=3,\n",
    "                         min_child_weight=1.5,\n",
    "                         n_estimators=10000,                                                                    \n",
    "                         reg_alpha=0.75,\n",
    "                         reg_lambda=0.45,\n",
    "                         subsample=0.6,\n",
    "                         seed=42)\n",
    "xgb_reg.fit(x_train, y_train)"
   ]
  },
  {
   "cell_type": "code",
   "execution_count": 955,
   "metadata": {},
   "outputs": [
    {
     "data": {
      "text/plain": [
       "array([0.92500669, 0.90749745, 0.91416124, 0.91084328, 0.90524657])"
      ]
     },
     "execution_count": 955,
     "metadata": {},
     "output_type": "execute_result"
    }
   ],
   "source": [
    "cross_val_score(GradientBoostingRegressor(subsample=0.1, max_depth=8, n_estimators=580, learning_rate=0.01), x_train, y_train, cv=cv)"
   ]
  },
  {
   "cell_type": "code",
   "execution_count": 956,
   "metadata": {},
   "outputs": [],
   "source": [
    "# import pickle\n",
    "\n",
    "# pickle.dump(stacking_reg, open('stacking_reg_xgb_gb_deprecated.sav', 'wb'))"
   ]
  },
  {
   "cell_type": "code",
   "execution_count": 957,
   "metadata": {},
   "outputs": [
    {
     "name": "stdout",
     "output_type": "stream",
     "text": [
      "<class 'pandas.core.frame.DataFrame'>\n",
      "RangeIndex: 1459 entries, 0 to 1458\n",
      "Data columns (total 2 columns):\n",
      " #   Column     Non-Null Count  Dtype  \n",
      "---  ------     --------------  -----  \n",
      " 0   Id         1459 non-null   int64  \n",
      " 1   SalePrice  1459 non-null   float64\n",
      "dtypes: float64(1), int64(1)\n",
      "memory usage: 22.9 KB\n"
     ]
    }
   ],
   "source": [
    "y_test_accurate_preds = pd.read_csv(\"./datasets/accurate_preds.csv\")\n",
    "y_test_accurate_preds.info()"
   ]
  },
  {
   "cell_type": "code",
   "execution_count": 958,
   "metadata": {},
   "outputs": [],
   "source": [
    "# stacking_reg.fit(x_train, y_train)"
   ]
  },
  {
   "cell_type": "code",
   "execution_count": 960,
   "metadata": {},
   "outputs": [],
   "source": [
    "# stacking_reg.score(x_test, list(y_test_accurate_preds['SalePrice']))"
   ]
  },
  {
   "cell_type": "code",
   "execution_count": null,
   "metadata": {},
   "outputs": [],
   "source": [
    "XGBRegressor(colsample_bytree=0.4,\n",
    "                         gamma=0,                 \n",
    "                         learning_rate=0.07,\n",
    "                         max_depth=3,\n",
    "                         min_child_weight=1.5,\n",
    "                         n_estimators=10000,                                                                    \n",
    "                         reg_alpha=0.75,\n",
    "                         reg_lambda=0.45,\n",
    "                         subsample=0.6,\n",
    "                         seed=42).fit(x_train, y_train).score(x_test, list(y_test_accurate_preds['SalePrice']))"
   ]
  },
  {
   "cell_type": "code",
   "execution_count": null,
   "metadata": {},
   "outputs": [],
   "source": [
    "# from sklearn.ensemble import RandomForestRegressor\n",
    "\n",
    "# estimators = [\n",
    "#     ('gb reg', GradientBoostingRegressor(subsample=0.1, max_depth=8, n_estimators=580, learning_rate=0.01)),\n",
    "#     ('xgb reg', XGBRegressor(colsample_bytree=0.4,\n",
    "#                          gamma=0,                 \n",
    "#                          learning_rate=0.07,\n",
    "#                          max_depth=3,\n",
    "#                          min_child_weight=1.5,\n",
    "#                          n_estimators=10000,                                                                    \n",
    "#                          reg_alpha=0.75,\n",
    "#                          reg_lambda=0.45,\n",
    "#                          subsample=0.6,\n",
    "#                          seed=42)),\n",
    "#     ('svm reg', SVR(C=0.7682824405204463, coef0=0.0001, degree=2, epsilon=0.0001, gamma=0.0042151786393578635, max_iter=10000)),\n",
    "# #     ('rand reg', RandomForestRegressor(n_estimators=150))\n",
    "# #     ('lasso', lasso_model),\n",
    "# #     ('ridge', ridge_model),\n",
    "#     ('enet_model', enet_model)\n",
    "# ]\n",
    "\n",
    "# stacking_reg_gb_xgb = StackingRegressor(estimators=estimators)\n",
    "# stacking_reg_gb_xgb.fit(x_train, y_train)\n",
    "# stacking_reg_gb_xgb.score(x_test, list(y_test_accurate_preds['SalePrice']))"
   ]
  },
  {
   "cell_type": "code",
   "execution_count": 961,
   "metadata": {},
   "outputs": [],
   "source": [
    "output_to_csv('xgb_reg_out', xgb_reg.predict(x_test))"
   ]
  },
  {
   "cell_type": "code",
   "execution_count": null,
   "metadata": {},
   "outputs": [],
   "source": [
    "np.mean([0.9217683 , 0.91884505, 0.92439781, 0.90761464, 0.91641651])"
   ]
  },
  {
   "cell_type": "code",
   "execution_count": null,
   "metadata": {},
   "outputs": [],
   "source": []
  }
 ],
 "metadata": {
  "kernelspec": {
   "display_name": "env",
   "language": "python",
   "name": "env"
  },
  "language_info": {
   "codemirror_mode": {
    "name": "ipython",
    "version": 3
   },
   "file_extension": ".py",
   "mimetype": "text/x-python",
   "name": "python",
   "nbconvert_exporter": "python",
   "pygments_lexer": "ipython3",
   "version": "3.8.5"
  }
 },
 "nbformat": 4,
 "nbformat_minor": 4
}
