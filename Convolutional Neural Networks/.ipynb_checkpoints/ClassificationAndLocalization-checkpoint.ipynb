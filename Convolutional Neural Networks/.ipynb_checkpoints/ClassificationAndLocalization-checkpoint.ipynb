{
 "cells": [
  {
   "cell_type": "markdown",
   "metadata": {},
   "source": [
    "# Classification and Localization\n",
    "- Localizing: predicting a bounding box around an object\n",
    "    - can be expressed as a regression task\n",
    "    - box can be made by predicting the horizontal and vertical coordinates of the object's center, as well as its height and width\n",
    "        - 4 numbers to predict == 4 output neurons"
   ]
  },
  {
   "cell_type": "code",
   "execution_count": 4,
   "metadata": {},
   "outputs": [],
   "source": [
    "import tensorflow as tf\n",
    "from tensorflow.keras import applications, layers, models, optimizers\n",
    "\n",
    "n_classes = 5 #dummy classes\n",
    "\n",
    "base_model = applications.xception.Xception(weights=\"imagenet\", include_top=False)\n",
    "\n",
    "avg = layers.GlobalAveragePooling2D()(base_model.output) # add own global avg pooling layer based on output of base model\n",
    "class_output = layers.Dense(n_classes, activation=\"softmax\")(avg)\n",
    "loc_output = layers.Dense(4)(avg) # will return 4 numbers [horizontal, vertical, height, width]\n",
    "model = models.Model(inputs=base_model.input, outputs=[class_output, loc_output]) # uses base model's layers directly rather than the base_model itself\n",
    "\n",
    "optimizer = optimizers.SGD(lr=0.2, momentum=0.9, decay=0.01)\n",
    "model.compile(loss=[\"sparse_categorical_crossentropy\", \"mse\"], loss_weights=[0.8, 0.2], #depends on which output you care about most (add up to 1)\n",
    "              metrics=[\"accuracy\"], optimizer=optimizer)"
   ]
  },
  {
   "cell_type": "markdown",
   "metadata": {},
   "source": []
  }
 ],
 "metadata": {
  "kernelspec": {
   "display_name": "env",
   "language": "python",
   "name": "env"
  },
  "language_info": {
   "codemirror_mode": {
    "name": "ipython",
    "version": 3
   },
   "file_extension": ".py",
   "mimetype": "text/x-python",
   "name": "python",
   "nbconvert_exporter": "python",
   "pygments_lexer": "ipython3",
   "version": "3.8.5"
  }
 },
 "nbformat": 4,
 "nbformat_minor": 4
}
