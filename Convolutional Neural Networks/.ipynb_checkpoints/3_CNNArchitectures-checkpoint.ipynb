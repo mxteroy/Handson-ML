{
 "cells": [
  {
   "cell_type": "markdown",
   "metadata": {},
   "source": [
    "# CNN Architectures\n",
    "- typical architecture: stack a few conv. layers with each followed followed by a ReLU layer, then a pooling layer, then more conv. layers w/ ReLU layer after, then another pooling layer, and so on\n",
    "- Image gets smaller and smaller but also gets deeper and deeper (more feature maps) as it progresses down the network\n",
    "- <img src=\"images/CNNArchitecture.jpeg\" width=500/> typical CNN architecture\n",
    "- **Don't use large kernel sizes (e.g. 5x5) for conv. layers. Instead use two smaller layers (e.g. 3x3) because it uses fewer parameters, has fewer computations, and has better performance**\n",
    "    - Exception on the first conv. layers because it will reduce the spatial dimensions without losing much information"
   ]
  },
  {
   "cell_type": "code",
   "execution_count": 1,
   "metadata": {},
   "outputs": [],
   "source": [
    "from tensorflow.keras.datasets import fashion_mnist\n",
    "\n",
    "(X_train_full, y_train_full), (X_test, y_test) = fashion_mnist.load_data()"
   ]
  },
  {
   "cell_type": "code",
   "execution_count": 2,
   "metadata": {},
   "outputs": [],
   "source": [
    "from sklearn.model_selection import train_test_split\n",
    "import numpy as np\n",
    "\n",
    "X_train, X_val, y_train, y_val = train_test_split(X_train_full, y_train_full, test_size=0.2)\n",
    "\n",
    "#normalize values\n",
    "X_mean = X_train.mean(axis=0, keepdims=True)\n",
    "X_std = X_train.std(axis=0, keepdims=True) + 1e-7\n",
    "X_train = (X_train - X_mean) / X_std\n",
    "X_val = (X_val - X_mean) / X_std\n",
    "X_test = (X_test - X_mean) / X_std\n",
    "\n",
    "\n",
    "X_train = X_train[..., np.newaxis] # newaxis puts all grayscale values into an array of size 1 so that the shape will be [height, width, channel]\n",
    "X_val = X_val[..., np.newaxis]\n",
    "X_test = X_test[..., np.newaxis]"
   ]
  },
  {
   "cell_type": "code",
   "execution_count": 3,
   "metadata": {},
   "outputs": [],
   "source": [
    "# # Import mlcompute module to use the optional set_mlc_device API for device selection with ML Compute.\n",
    "# from tensorflow.python.compiler.mlcompute import mlcompute\n",
    "\n",
    "# # Select CPU device.\n",
    "# mlcompute.set_mlc_device(device_name='cpu') # Available options are 'cpu', 'gpu', and 'any'."
   ]
  },
  {
   "cell_type": "code",
   "execution_count": 4,
   "metadata": {},
   "outputs": [],
   "source": [
    "from tensorflow.keras.models import Sequential\n",
    "from tensorflow.keras.layers import Dense, Conv2D, MaxPool2D, Flatten, Dropout\n",
    "\n",
    "model = Sequential([\n",
    "    Conv2D(filters=64, kernel_size=7, activation=\"relu\", padding=\"same\", input_shape=[28, 28, 1]), # account for grayscale channel\n",
    "    MaxPool2D(pool_size=2),\n",
    "    #use two conv layers w/ small kernel size (3X3) \n",
    "    Conv2D(filters=128, kernel_size=3, activation=\"relu\", padding=\"same\"),\n",
    "    Conv2D(filters=128, kernel_size=3, activation=\"relu\", padding=\"same\"),\n",
    "    MaxPool2D(pool_size=2),\n",
    "    Conv2D(filters=256, kernel_size=3, activation=\"relu\", padding=\"same\"),\n",
    "    Conv2D(filters=256, kernel_size=3, activation=\"relu\", padding=\"same\"),\n",
    "    MaxPool2D(pool_size=2),\n",
    "    #Flatten before feeding outptus to the regular feed-forward portion of the network\n",
    "    Flatten(),\n",
    "    Dense(128, activation=\"relu\"),\n",
    "    Dropout(0.5),\n",
    "    Dense(64, activation=\"relu\"),\n",
    "    Dropout(0.5),\n",
    "    Dense(10, activation=\"softmax\")\n",
    "])"
   ]
  },
  {
   "cell_type": "code",
   "execution_count": null,
   "metadata": {},
   "outputs": [
    {
     "name": "stdout",
     "output_type": "stream",
     "text": [
      "Epoch 1/5\n",
      "1388/1500 [==========================>...] - ETA: 7s - loss: 1.6944 - accuracy: 0.3813"
     ]
    }
   ],
   "source": [
    "model.compile(optimizer=\"sgd\", loss=\"sparse_categorical_crossentropy\", metrics=[\"accuracy\"])\n",
    "model.fit(X_train, y_train, epochs=1, validation_data=(X_val, y_val))"
   ]
  },
  {
   "cell_type": "code",
   "execution_count": 8,
   "metadata": {},
   "outputs": [
    {
     "name": "stdout",
     "output_type": "stream",
     "text": [
      "313/313 [==============================] - 2s 7ms/step - loss: 2.3379 - accuracy: 0.0950\n"
     ]
    }
   ],
   "source": [
    "score = model.evaluate(X_test, y_test)"
   ]
  },
  {
   "cell_type": "code",
   "execution_count": 14,
   "metadata": {},
   "outputs": [
    {
     "data": {
      "text/plain": [
       "[2.358581304550171, 0.09520000219345093]"
      ]
     },
     "execution_count": 14,
     "metadata": {},
     "output_type": "execute_result"
    }
   ],
   "source": [
    "score"
   ]
  },
  {
   "cell_type": "code",
   "execution_count": null,
   "metadata": {},
   "outputs": [],
   "source": []
  }
 ],
 "metadata": {
  "kernelspec": {
   "display_name": "env",
   "language": "python",
   "name": "env"
  },
  "language_info": {
   "codemirror_mode": {
    "name": "ipython",
    "version": 3
   },
   "file_extension": ".py",
   "mimetype": "text/x-python",
   "name": "python",
   "nbconvert_exporter": "python",
   "pygments_lexer": "ipython3",
   "version": "3.8.5"
  }
 },
 "nbformat": 4,
 "nbformat_minor": 4
}
