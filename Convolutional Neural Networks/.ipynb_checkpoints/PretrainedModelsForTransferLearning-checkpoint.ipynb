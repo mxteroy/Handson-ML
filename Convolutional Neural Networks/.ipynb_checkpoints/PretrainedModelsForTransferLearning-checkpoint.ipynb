{
 "cells": [
  {
   "cell_type": "markdown",
   "metadata": {},
   "source": [
    "# Pretrained Models for Transfer Learning\n",
    "- If there's not enough training data, it is a good idea to use a pretrained model's lower layers\n",
    "- example w/ Xception model pretrained on ImageNet:"
   ]
  },
  {
   "cell_type": "code",
   "execution_count": 12,
   "metadata": {},
   "outputs": [],
   "source": [
    "import tensorflow_datasets as tfds\n",
    "\n",
    "(train_set, valid_set, test_set), info = tfds.load('tf_flowers', as_supervised=True, with_info=True, split=['train[:75%]', 'train[75%:90%]', 'train[90%:]'])\n",
    "dataset_size = info.splits[\"train\"].num_examples #3670\n",
    "class_anems = info.features[\"label\"].names # [\"dandelion\", \"daisies\"]\n",
    "n_classes = info.features[\"label\"].num_classes #5"
   ]
  },
  {
   "cell_type": "code",
   "execution_count": 13,
   "metadata": {},
   "outputs": [],
   "source": [
    "def preprocess(image, label):\n",
    "    resized_image = tf.image.resize(image, [224, 224])\n",
    "    final_image = keras.applications.xception.preprocess_input(resized_image)\n",
    "    return final_image, label"
   ]
  },
  {
   "cell_type": "code",
   "execution_count": 17,
   "metadata": {},
   "outputs": [],
   "source": [
    "import tensorflow as tf\n",
    "from tensorflow import keras\n",
    "\n",
    "batch_size = 32\n",
    "train_set = train_set.shuffle(1000)\n",
    "train_set = train_set.map(preprocess).batch(batch_size).prefetch(1) #prefetching caches the data in fast memory (RAM) for faster fetching time\n",
    "valid_set = valid_set.map(preprocess).batch(batch_size).prefetch(1)\n",
    "test_set = test_set.map(preprocess).batch(batch_size).prefetch(1)"
   ]
  },
  {
   "cell_type": "code",
   "execution_count": 19,
   "metadata": {},
   "outputs": [
    {
     "name": "stdout",
     "output_type": "stream",
     "text": [
      "Downloading data from https://storage.googleapis.com/tensorflow/keras-applications/xception/xception_weights_tf_dim_ordering_tf_kernels_notop.h5\n",
      "83689472/83683744 [==============================] - 125s 1us/step\n"
     ]
    }
   ],
   "source": [
    "# load an Xception model pretrained on ImageNet\n",
    "\n",
    "base_model = keras.applications.xception.Xception(weights=\"imagenet\", include_top=False) # exclude the top of the NN(global avg pooling layer and Dense layer)\n",
    "avg = keras.layers.GlobalAveragePooling2D()(base_model.output) # add own global avg pooling layer based on output of base model\n",
    "output = keras.layers.Dense(n_classes, activation=\"softmax\")(avg)\n",
    "model = keras.Model(inputs=base_model.input, outputs=output) # uses base model's layers directly rather than the base_model itself"
   ]
  },
  {
   "cell_type": "code",
   "execution_count": null,
   "metadata": {},
   "outputs": [],
   "source": [
    "# freeze the weights of the pretrained layers\n",
    "\n",
    "for layer in base_model.layers:\n",
    "    layer.trainable = False"
   ]
  }
 ],
 "metadata": {
  "kernelspec": {
   "display_name": "homl",
   "language": "python",
   "name": "homl"
  },
  "language_info": {
   "codemirror_mode": {
    "name": "ipython",
    "version": 3
   },
   "file_extension": ".py",
   "mimetype": "text/x-python",
   "name": "python",
   "nbconvert_exporter": "python",
   "pygments_lexer": "ipython3",
   "version": "3.9.4"
  }
 },
 "nbformat": 4,
 "nbformat_minor": 4
}
