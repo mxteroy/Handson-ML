{
 "cells": [
  {
   "cell_type": "code",
   "execution_count": null,
   "metadata": {},
   "outputs": [],
   "source": [
    "import numpy as np\n",
    "\n",
    "# class LinearRegression():\n",
    "#     def predict(self, X):\n",
    "#         return np.dot(X, self._theta)\n",
    "        \n",
    "#     def fit(self, X, y, n_iter=100000, lr=0.01):\n",
    "#         self._theta = np.zeros(X.shape[1]) # weights for each feature is the same for each training instance\n",
    "        \n",
    "#         for i in range(n_iter): # I will converge to the global min because the error gradient for linear regression is 2D + convex\n",
    "#             # update weights w/ gradient descent\n",
    "#             predictions = self.predict(X)\n",
    "#             error = predictions - y\n",
    "#             gradient = np.dot(X.T, error) / len(X)\n",
    "# #             print(lr * gradient)\n",
    "#             self._theta -= lr * gradient\n",
    "            \n",
    "#         print(self._theta)\n",
    "#         return self\n",
    "\n",
    "class Simple1DLinearRegressor:\n",
    "    def predict(self, data):\n",
    "        return np.dot(data, self._W)\n",
    "  \n",
    "    def _gradient_descent_step(self, X, targets, lr):\n",
    "\n",
    "        predictions = self.predict(X)\n",
    "\n",
    "        error = predictions - targets\n",
    "        gradient = np.dot(X.T,  error) / len(X)\n",
    "\n",
    "        self._W -= lr * gradient\n",
    "      \n",
    "    def fit(self, X, y, n_iter=100000, lr=0.01):\n",
    "        self._W = np.zeros(X.shape[1])\n",
    "        print(self._W)\n",
    "        for i in range(n_iter):        \n",
    "            self._gradient_descent_step(X, y, lr)       \n",
    "\n",
    "        return self"
   ]
  },
  {
   "cell_type": "code",
   "execution_count": 2,
   "metadata": {},
   "outputs": [],
   "source": [
    "from sklearn.datasets import load_boston\n",
    "\n",
    "x, y = load_boston(return_X_y=True)"
   ]
  },
  {
   "cell_type": "code",
   "execution_count": 3,
   "metadata": {},
   "outputs": [],
   "source": [
    "from sklearn.model_selection import train_test_split\n",
    "\n",
    "x_train, x_test, y_train, y_test = train_test_split(x, y, test_size=0.25)"
   ]
  },
  {
   "cell_type": "code",
   "execution_count": 4,
   "metadata": {},
   "outputs": [
    {
     "name": "stdout",
     "output_type": "stream",
     "text": [
      "[0.]\n"
     ]
    },
    {
     "data": {
      "text/plain": [
       "<__main__.Simple1DLinearRegressor at 0x7ff9086e0700>"
      ]
     },
     "execution_count": 4,
     "metadata": {},
     "output_type": "execute_result"
    }
   ],
   "source": [
    "lin_reg = Simple1DLinearRegressor()\n",
    "lin_reg.fit(x_train[:, :1], y_train, n_iter=2000, lr=0.01)"
   ]
  },
  {
   "cell_type": "code",
   "execution_count": 5,
   "metadata": {},
   "outputs": [
    {
     "name": "stdout",
     "output_type": "stream",
     "text": [
      "[2.30177414e+00 2.47358430e+00 2.70730212e-01 5.48565180e-01\n",
      " 2.83208557e+00 4.30189027e-02 8.10707226e+00 1.80834499e+00\n",
      " 7.30254331e-02 3.66970758e+00 4.71828618e-02 1.31976684e-01\n",
      " 2.36404615e+00 2.86116041e-02 9.95862874e-02 1.37175387e+00\n",
      " 4.24293902e+00 5.88580827e-01 1.15612325e-01 5.23737573e+00\n",
      " 4.29095988e-02 7.05478774e-02 5.08091497e-01 2.81124495e-01\n",
      " 8.89525768e-03 1.95591570e-01 1.71997537e-01 2.32244820e-02\n",
      " 4.37496775e-01 4.71984767e-02 1.58698892e-02 1.91449472e+00\n",
      " 3.36551996e-02 2.78985261e-02 4.58686122e-01 4.95179580e+00\n",
      " 2.36512878e-02 6.84867177e-02 3.05637202e+00 6.82368801e-03\n",
      " 2.54949848e+00 2.66404900e-01 6.27102654e+00 7.78826914e-01\n",
      " 1.44684047e+00 4.71568371e-03 2.94600108e-02 5.18753314e+00\n",
      " 6.58426036e-02 7.31331756e+00 1.42043056e-02 8.93741776e-02\n",
      " 3.65023067e-02 7.40716278e-02 8.26254409e+00 2.90491842e+00\n",
      " 4.10982765e-02 1.02277246e-02 5.55461737e+00 1.72075611e-02\n",
      " 1.50891469e-02 1.51411964e-01 9.62821858e+00 4.53194901e-02\n",
      " 9.45166671e-02 2.93767316e-02 3.62376350e+00 6.28913976e-02\n",
      " 4.27898849e-02 3.02987883e+00 7.85843185e-02 8.79740464e-02\n",
      " 4.16004500e+00 1.11863721e+00 5.16151360e+00 7.50595271e+00\n",
      " 7.77202970e-02 1.21326838e+00 7.81262830e-03 7.48992147e-03\n",
      " 6.38595181e-02 1.63955890e-02 1.20437313e+00 1.34886251e-01\n",
      " 4.08172093e-01 3.16252695e-02 3.49980764e-02 1.29091581e+01\n",
      " 1.86545369e-02 7.81262830e-03 2.23864852e-02 1.01699497e-01\n",
      " 1.12169251e+00 7.41715629e-01 3.99324721e+00 1.52192706e+00\n",
      " 4.29308870e+00 6.63318688e-02 1.17616751e+01 2.70032749e-02\n",
      " 4.13793438e-02 2.94931663e+00 2.29902593e-02 7.90642148e-01\n",
      " 1.40210914e-01 3.91724975e+00 1.84827736e-02 8.75045600e+00\n",
      " 1.27496785e+00 1.43812738e-02 1.99619159e+01 1.27635757e-01\n",
      " 7.24185361e+00 1.86384015e-01 1.15487406e-01 3.72934589e-02\n",
      " 1.92031385e-01 9.25596063e-02 2.86308624e-01 1.83995464e+00\n",
      " 5.12635417e-02 1.23803353e+00 3.46857795e-02 9.11126305e-02\n",
      " 2.13267576e+00 1.04629362e+00 7.22441703e-01]\n"
     ]
    }
   ],
   "source": [
    "y_pred = lin_reg.predict(x_test[:, :1])\n",
    "print(y_pred)"
   ]
  },
  {
   "cell_type": "code",
   "execution_count": 6,
   "metadata": {},
   "outputs": [
    {
     "data": {
      "text/plain": [
       "524.8980024514516"
      ]
     },
     "execution_count": 6,
     "metadata": {},
     "output_type": "execute_result"
    }
   ],
   "source": [
    "from sklearn.metrics import mean_squared_error\n",
    "\n",
    "mean_squared_error(y_test, y_pred)"
   ]
  },
  {
   "cell_type": "code",
   "execution_count": null,
   "metadata": {},
   "outputs": [],
   "source": []
  }
 ],
 "metadata": {
  "kernelspec": {
   "display_name": "env",
   "language": "python",
   "name": "env"
  },
  "language_info": {
   "codemirror_mode": {
    "name": "ipython",
    "version": 3
   },
   "file_extension": ".py",
   "mimetype": "text/x-python",
   "name": "python",
   "nbconvert_exporter": "python",
   "pygments_lexer": "ipython3",
   "version": "3.8.5"
  }
 },
 "nbformat": 4,
 "nbformat_minor": 4
}
