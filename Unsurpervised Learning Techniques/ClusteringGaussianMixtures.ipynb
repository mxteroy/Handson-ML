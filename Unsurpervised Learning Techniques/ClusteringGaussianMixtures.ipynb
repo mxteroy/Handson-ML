{
 "cells": [
  {
   "cell_type": "markdown",
   "metadata": {},
   "source": [
    "## Gaussian Mixtures \n",
    "### Gaussian mixture model\n",
    "- A probabilitics model that assumes that the instances were generated from a mixture fo several Gaussian distribution whose parametres are unknown\n",
    "- All instances generated from as single Gaussian distribution form a cluster that typically looks like an ellipsoid\n",
    "    - each cluster can have a different ellipsoidal shape, size, densit, and orientation\n",
    "    - when observing an instance, it is generated from one of those Gaussian distributions, but it is unkown which one\n",
    "        - it is also unknown what the parameters are\n",
    "        \n",
    "#### Gaussian mixture model variants\n",
    "- Gaussian Mixture class\n",
    "    - number of Gaussian distritbution k must be known in advance\n",
    "    - the dataset is assumed to be generated from the probabilistic process:\n",
    "        1. An instance picked randomly from among k clusters. The probability of choosin the jth cluster is defined as the cluter's weight\n",
    "        2. z^(i) instance means the ith instance has been assigned to the jth cluster"
   ]
  },
  {
   "cell_type": "code",
   "execution_count": null,
   "metadata": {},
   "outputs": [],
   "source": []
  }
 ],
 "metadata": {
  "kernelspec": {
   "display_name": "env",
   "language": "python",
   "name": "env"
  },
  "language_info": {
   "codemirror_mode": {
    "name": "ipython",
    "version": 3
   },
   "file_extension": ".py",
   "mimetype": "text/x-python",
   "name": "python",
   "nbconvert_exporter": "python",
   "pygments_lexer": "ipython3",
   "version": "3.8.5"
  }
 },
 "nbformat": 4,
 "nbformat_minor": 4
}
