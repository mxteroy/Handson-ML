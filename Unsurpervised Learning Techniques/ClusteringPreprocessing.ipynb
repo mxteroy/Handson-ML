{
 "cells": [
  {
   "cell_type": "markdown",
   "metadata": {},
   "source": [
    "### Using clustering for preprocessing\n",
    "- can be efficient in dimensioality reduction for supervised learning algorithms"
   ]
  },
  {
   "cell_type": "code",
   "execution_count": 1,
   "metadata": {},
   "outputs": [],
   "source": [
    "from sklearn.datasets import load_digits\n",
    "from sklearn.model_selection import train_test_split\n",
    "\n",
    "X_digits, y_digits = load_digits(return_X_y=True) #return_X_y return data and target as a tuple instead of a Bunch\n",
    "X_train, X_test, y_train, y_test = train_test_split(X_digits, y_digits)"
   ]
  },
  {
   "cell_type": "code",
   "execution_count": 9,
   "metadata": {},
   "outputs": [
    {
     "name": "stderr",
     "output_type": "stream",
     "text": [
      "/Users/jameseroy/ml/env/lib/python3.8/site-packages/sklearn/linear_model/_logistic.py:763: ConvergenceWarning: lbfgs failed to converge (status=1):\n",
      "STOP: TOTAL NO. of ITERATIONS REACHED LIMIT.\n",
      "\n",
      "Increase the number of iterations (max_iter) or scale the data as shown in:\n",
      "    https://scikit-learn.org/stable/modules/preprocessing.html\n",
      "Please also refer to the documentation for alternative solver options:\n",
      "    https://scikit-learn.org/stable/modules/linear_model.html#logistic-regression\n",
      "  n_iter_i = _check_optimize_result(\n"
     ]
    },
    {
     "data": {
      "text/plain": [
       "0.9711111111111111"
      ]
     },
     "execution_count": 9,
     "metadata": {},
     "output_type": "execute_result"
    }
   ],
   "source": [
    "from sklearn.linear_model import LogisticRegression\n",
    "\n",
    "log_reg = LogisticRegression()\n",
    "log_reg.fit(X_train, y_train)\n",
    "log_reg.score(X_test, y_test)"
   ]
  },
  {
   "cell_type": "code",
   "execution_count": 23,
   "metadata": {},
   "outputs": [
    {
     "data": {
      "text/plain": [
       "0.98"
      ]
     },
     "execution_count": 23,
     "metadata": {},
     "output_type": "execute_result"
    }
   ],
   "source": [
    "from sklearn.cluster import KMeans\n",
    "from sklearn.pipeline import Pipeline\n",
    "\n",
    "# although I can say that 10 cluster is enough because there are 10 digits (one cluster per digit), each digits is written differently so choose 50 to be safe\n",
    "kmeans = KMeans(n_clusters=50) \n",
    "\n",
    "'''\n",
    "steps of pipeline:\n",
    "- cluster the input into 50 clusters\n",
    "- replace the images with their disances to these 50 clusters\n",
    "- apply the regression model\n",
    "'''\n",
    "pipeline = Pipeline([\n",
    "    (\"kmeans\", KMeans(n_clusters=50)),\n",
    "    (\"log_reg\", LogisticRegression(max_iter=100000))\n",
    "])\n",
    "pipeline.fit(X_train, y_train)\n",
    "pipeline.score(X_test, y_test)"
   ]
  },
  {
   "cell_type": "markdown",
   "metadata": {},
   "source": [
    "A little bit better than the with dimensionality reduction, but that was chosen as a guess\n",
    "\n",
    "#### Using GridSearchCV to find the optimal number of clusters"
   ]
  },
  {
   "cell_type": "code",
   "execution_count": 24,
   "metadata": {},
   "outputs": [
    {
     "name": "stdout",
     "output_type": "stream",
     "text": [
      "Fitting 3 folds for each of 98 candidates, totalling 294 fits\n",
      "[CV] END ...............................kmeans__n_clusters=2; total time=   0.5s\n",
      "[CV] END ...............................kmeans__n_clusters=2; total time=   0.7s\n",
      "[CV] END ...............................kmeans__n_clusters=2; total time=   0.6s\n",
      "[CV] END ...............................kmeans__n_clusters=3; total time=   1.4s\n",
      "[CV] END ...............................kmeans__n_clusters=3; total time=   0.9s\n",
      "[CV] END ...............................kmeans__n_clusters=3; total time=   1.1s\n",
      "[CV] END ...............................kmeans__n_clusters=4; total time=   1.8s\n",
      "[CV] END ...............................kmeans__n_clusters=4; total time=   1.8s\n",
      "[CV] END ...............................kmeans__n_clusters=4; total time=   1.6s\n",
      "[CV] END ...............................kmeans__n_clusters=5; total time=   3.2s\n",
      "[CV] END ...............................kmeans__n_clusters=5; total time=   2.3s\n",
      "[CV] END ...............................kmeans__n_clusters=5; total time=   2.8s\n",
      "[CV] END ...............................kmeans__n_clusters=6; total time=   4.0s\n"
     ]
    },
    {
     "name": "stderr",
     "output_type": "stream",
     "text": [
      "/Users/jameseroy/ml/env/lib/python3.8/site-packages/sklearn/linear_model/_logistic.py:763: ConvergenceWarning: lbfgs failed to converge (status=1):\n",
      "STOP: TOTAL NO. of f AND g EVALUATIONS EXCEEDS LIMIT.\n",
      "\n",
      "Increase the number of iterations (max_iter) or scale the data as shown in:\n",
      "    https://scikit-learn.org/stable/modules/preprocessing.html\n",
      "Please also refer to the documentation for alternative solver options:\n",
      "    https://scikit-learn.org/stable/modules/linear_model.html#logistic-regression\n",
      "  n_iter_i = _check_optimize_result(\n"
     ]
    },
    {
     "name": "stdout",
     "output_type": "stream",
     "text": [
      "[CV] END ...............................kmeans__n_clusters=6; total time=   5.6s\n",
      "[CV] END ...............................kmeans__n_clusters=6; total time=   3.1s\n",
      "[CV] END ...............................kmeans__n_clusters=7; total time=   4.9s\n",
      "[CV] END ...............................kmeans__n_clusters=7; total time=   5.4s\n",
      "[CV] END ...............................kmeans__n_clusters=7; total time=   3.2s\n",
      "[CV] END ...............................kmeans__n_clusters=8; total time=   4.4s\n"
     ]
    },
    {
     "name": "stderr",
     "output_type": "stream",
     "text": [
      "/Users/jameseroy/ml/env/lib/python3.8/site-packages/sklearn/linear_model/_logistic.py:763: ConvergenceWarning: lbfgs failed to converge (status=1):\n",
      "STOP: TOTAL NO. of f AND g EVALUATIONS EXCEEDS LIMIT.\n",
      "\n",
      "Increase the number of iterations (max_iter) or scale the data as shown in:\n",
      "    https://scikit-learn.org/stable/modules/preprocessing.html\n",
      "Please also refer to the documentation for alternative solver options:\n",
      "    https://scikit-learn.org/stable/modules/linear_model.html#logistic-regression\n",
      "  n_iter_i = _check_optimize_result(\n"
     ]
    },
    {
     "name": "stdout",
     "output_type": "stream",
     "text": [
      "[CV] END ...............................kmeans__n_clusters=8; total time=   5.6s\n",
      "[CV] END ...............................kmeans__n_clusters=8; total time=   2.6s\n",
      "[CV] END ...............................kmeans__n_clusters=9; total time=   4.8s\n",
      "[CV] END ...............................kmeans__n_clusters=9; total time=   4.5s\n",
      "[CV] END ...............................kmeans__n_clusters=9; total time=   2.9s\n",
      "[CV] END ..............................kmeans__n_clusters=10; total time=   5.3s\n"
     ]
    },
    {
     "name": "stderr",
     "output_type": "stream",
     "text": [
      "/Users/jameseroy/ml/env/lib/python3.8/site-packages/sklearn/linear_model/_logistic.py:763: ConvergenceWarning: lbfgs failed to converge (status=1):\n",
      "STOP: TOTAL NO. of f AND g EVALUATIONS EXCEEDS LIMIT.\n",
      "\n",
      "Increase the number of iterations (max_iter) or scale the data as shown in:\n",
      "    https://scikit-learn.org/stable/modules/preprocessing.html\n",
      "Please also refer to the documentation for alternative solver options:\n",
      "    https://scikit-learn.org/stable/modules/linear_model.html#logistic-regression\n",
      "  n_iter_i = _check_optimize_result(\n"
     ]
    },
    {
     "name": "stdout",
     "output_type": "stream",
     "text": [
      "[CV] END ..............................kmeans__n_clusters=10; total time=   5.7s\n",
      "[CV] END ..............................kmeans__n_clusters=10; total time=   3.1s\n",
      "[CV] END ..............................kmeans__n_clusters=11; total time=   4.7s\n"
     ]
    },
    {
     "name": "stderr",
     "output_type": "stream",
     "text": [
      "/Users/jameseroy/ml/env/lib/python3.8/site-packages/sklearn/linear_model/_logistic.py:763: ConvergenceWarning: lbfgs failed to converge (status=1):\n",
      "STOP: TOTAL NO. of f AND g EVALUATIONS EXCEEDS LIMIT.\n",
      "\n",
      "Increase the number of iterations (max_iter) or scale the data as shown in:\n",
      "    https://scikit-learn.org/stable/modules/preprocessing.html\n",
      "Please also refer to the documentation for alternative solver options:\n",
      "    https://scikit-learn.org/stable/modules/linear_model.html#logistic-regression\n",
      "  n_iter_i = _check_optimize_result(\n"
     ]
    },
    {
     "name": "stdout",
     "output_type": "stream",
     "text": [
      "[CV] END ..............................kmeans__n_clusters=11; total time=   5.7s\n",
      "[CV] END ..............................kmeans__n_clusters=11; total time=   3.8s\n",
      "[CV] END ..............................kmeans__n_clusters=12; total time=   3.4s\n",
      "[CV] END ..............................kmeans__n_clusters=12; total time=   4.4s\n",
      "[CV] END ..............................kmeans__n_clusters=12; total time=   2.7s\n",
      "[CV] END ..............................kmeans__n_clusters=13; total time=   5.5s\n",
      "[CV] END ..............................kmeans__n_clusters=13; total time=   5.8s\n",
      "[CV] END ..............................kmeans__n_clusters=13; total time=   1.7s\n",
      "[CV] END ..............................kmeans__n_clusters=14; total time=   5.5s\n",
      "[CV] END ..............................kmeans__n_clusters=14; total time=   4.9s\n",
      "[CV] END ..............................kmeans__n_clusters=14; total time=   3.1s\n",
      "[CV] END ..............................kmeans__n_clusters=15; total time=   4.3s\n",
      "[CV] END ..............................kmeans__n_clusters=15; total time=   3.9s\n",
      "[CV] END ..............................kmeans__n_clusters=15; total time=   4.9s\n",
      "[CV] END ..............................kmeans__n_clusters=16; total time=   3.7s\n",
      "[CV] END ..............................kmeans__n_clusters=16; total time=   4.0s\n",
      "[CV] END ..............................kmeans__n_clusters=16; total time=   4.7s\n",
      "[CV] END ..............................kmeans__n_clusters=17; total time=   4.5s\n",
      "[CV] END ..............................kmeans__n_clusters=17; total time=   4.1s\n",
      "[CV] END ..............................kmeans__n_clusters=17; total time=   3.3s\n",
      "[CV] END ..............................kmeans__n_clusters=18; total time=   3.4s\n"
     ]
    },
    {
     "name": "stderr",
     "output_type": "stream",
     "text": [
      "/Users/jameseroy/ml/env/lib/python3.8/site-packages/sklearn/linear_model/_logistic.py:763: ConvergenceWarning: lbfgs failed to converge (status=1):\n",
      "STOP: TOTAL NO. of f AND g EVALUATIONS EXCEEDS LIMIT.\n",
      "\n",
      "Increase the number of iterations (max_iter) or scale the data as shown in:\n",
      "    https://scikit-learn.org/stable/modules/preprocessing.html\n",
      "Please also refer to the documentation for alternative solver options:\n",
      "    https://scikit-learn.org/stable/modules/linear_model.html#logistic-regression\n",
      "  n_iter_i = _check_optimize_result(\n"
     ]
    },
    {
     "name": "stdout",
     "output_type": "stream",
     "text": [
      "[CV] END ..............................kmeans__n_clusters=18; total time=   6.0s\n",
      "[CV] END ..............................kmeans__n_clusters=18; total time=   3.1s\n",
      "[CV] END ..............................kmeans__n_clusters=19; total time=   4.3s\n"
     ]
    },
    {
     "name": "stderr",
     "output_type": "stream",
     "text": [
      "/Users/jameseroy/ml/env/lib/python3.8/site-packages/sklearn/linear_model/_logistic.py:763: ConvergenceWarning: lbfgs failed to converge (status=1):\n",
      "STOP: TOTAL NO. of f AND g EVALUATIONS EXCEEDS LIMIT.\n",
      "\n",
      "Increase the number of iterations (max_iter) or scale the data as shown in:\n",
      "    https://scikit-learn.org/stable/modules/preprocessing.html\n",
      "Please also refer to the documentation for alternative solver options:\n",
      "    https://scikit-learn.org/stable/modules/linear_model.html#logistic-regression\n",
      "  n_iter_i = _check_optimize_result(\n"
     ]
    },
    {
     "name": "stdout",
     "output_type": "stream",
     "text": [
      "[CV] END ..............................kmeans__n_clusters=19; total time=   6.3s\n",
      "[CV] END ..............................kmeans__n_clusters=19; total time=   5.4s\n",
      "[CV] END ..............................kmeans__n_clusters=20; total time=   3.8s\n",
      "[CV] END ..............................kmeans__n_clusters=20; total time=   5.1s\n",
      "[CV] END ..............................kmeans__n_clusters=20; total time=   4.1s\n",
      "[CV] END ..............................kmeans__n_clusters=21; total time=   3.5s\n",
      "[CV] END ..............................kmeans__n_clusters=21; total time=   5.0s\n",
      "[CV] END ..............................kmeans__n_clusters=21; total time=   2.8s\n",
      "[CV] END ..............................kmeans__n_clusters=22; total time=   4.9s\n"
     ]
    },
    {
     "name": "stderr",
     "output_type": "stream",
     "text": [
      "/Users/jameseroy/ml/env/lib/python3.8/site-packages/sklearn/linear_model/_logistic.py:763: ConvergenceWarning: lbfgs failed to converge (status=1):\n",
      "STOP: TOTAL NO. of f AND g EVALUATIONS EXCEEDS LIMIT.\n",
      "\n",
      "Increase the number of iterations (max_iter) or scale the data as shown in:\n",
      "    https://scikit-learn.org/stable/modules/preprocessing.html\n",
      "Please also refer to the documentation for alternative solver options:\n",
      "    https://scikit-learn.org/stable/modules/linear_model.html#logistic-regression\n",
      "  n_iter_i = _check_optimize_result(\n"
     ]
    },
    {
     "name": "stdout",
     "output_type": "stream",
     "text": [
      "[CV] END ..............................kmeans__n_clusters=22; total time=   6.1s\n",
      "[CV] END ..............................kmeans__n_clusters=22; total time=   4.9s\n",
      "[CV] END ..............................kmeans__n_clusters=23; total time=   2.3s\n",
      "[CV] END ..............................kmeans__n_clusters=23; total time=   5.9s\n",
      "[CV] END ..............................kmeans__n_clusters=23; total time=   3.2s\n",
      "[CV] END ..............................kmeans__n_clusters=24; total time=   4.7s\n"
     ]
    },
    {
     "name": "stderr",
     "output_type": "stream",
     "text": [
      "/Users/jameseroy/ml/env/lib/python3.8/site-packages/sklearn/linear_model/_logistic.py:763: ConvergenceWarning: lbfgs failed to converge (status=1):\n",
      "STOP: TOTAL NO. of f AND g EVALUATIONS EXCEEDS LIMIT.\n",
      "\n",
      "Increase the number of iterations (max_iter) or scale the data as shown in:\n",
      "    https://scikit-learn.org/stable/modules/preprocessing.html\n",
      "Please also refer to the documentation for alternative solver options:\n",
      "    https://scikit-learn.org/stable/modules/linear_model.html#logistic-regression\n",
      "  n_iter_i = _check_optimize_result(\n"
     ]
    },
    {
     "name": "stdout",
     "output_type": "stream",
     "text": [
      "[CV] END ..............................kmeans__n_clusters=24; total time=   6.3s\n",
      "[CV] END ..............................kmeans__n_clusters=24; total time=   4.3s\n",
      "[CV] END ..............................kmeans__n_clusters=25; total time=   2.7s\n",
      "[CV] END ..............................kmeans__n_clusters=25; total time=   5.4s\n",
      "[CV] END ..............................kmeans__n_clusters=25; total time=   3.4s\n",
      "[CV] END ..............................kmeans__n_clusters=26; total time=   2.6s\n",
      "[CV] END ..............................kmeans__n_clusters=26; total time=   5.6s\n",
      "[CV] END ..............................kmeans__n_clusters=26; total time=   5.2s\n",
      "[CV] END ..............................kmeans__n_clusters=27; total time=   3.3s\n",
      "[CV] END ..............................kmeans__n_clusters=27; total time=   5.2s\n",
      "[CV] END ..............................kmeans__n_clusters=27; total time=   4.7s\n",
      "[CV] END ..............................kmeans__n_clusters=28; total time=   2.9s\n",
      "[CV] END ..............................kmeans__n_clusters=28; total time=   5.8s\n",
      "[CV] END ..............................kmeans__n_clusters=28; total time=   2.4s\n",
      "[CV] END ..............................kmeans__n_clusters=29; total time=   4.9s\n",
      "[CV] END ..............................kmeans__n_clusters=29; total time=   3.7s\n",
      "[CV] END ..............................kmeans__n_clusters=29; total time=   2.5s\n",
      "[CV] END ..............................kmeans__n_clusters=30; total time=   4.6s\n",
      "[CV] END ..............................kmeans__n_clusters=30; total time=   7.4s\n",
      "[CV] END ..............................kmeans__n_clusters=30; total time=   4.1s\n",
      "[CV] END ..............................kmeans__n_clusters=31; total time=   3.8s\n",
      "[CV] END ..............................kmeans__n_clusters=31; total time=  10.0s\n",
      "[CV] END ..............................kmeans__n_clusters=31; total time=  10.2s\n",
      "[CV] END ..............................kmeans__n_clusters=32; total time=   5.2s\n",
      "[CV] END ..............................kmeans__n_clusters=32; total time=   7.5s\n",
      "[CV] END ..............................kmeans__n_clusters=32; total time=   6.6s\n",
      "[CV] END ..............................kmeans__n_clusters=33; total time=   4.0s\n",
      "[CV] END ..............................kmeans__n_clusters=33; total time=   5.8s\n",
      "[CV] END ..............................kmeans__n_clusters=33; total time=   5.7s\n",
      "[CV] END ..............................kmeans__n_clusters=34; total time=   6.1s\n",
      "[CV] END ..............................kmeans__n_clusters=34; total time=   6.9s\n",
      "[CV] END ..............................kmeans__n_clusters=34; total time=   7.0s\n",
      "[CV] END ..............................kmeans__n_clusters=35; total time=   6.9s\n",
      "[CV] END ..............................kmeans__n_clusters=35; total time=   5.6s\n",
      "[CV] END ..............................kmeans__n_clusters=35; total time=   8.3s\n",
      "[CV] END ..............................kmeans__n_clusters=36; total time=   7.5s\n",
      "[CV] END ..............................kmeans__n_clusters=36; total time=   5.8s\n",
      "[CV] END ..............................kmeans__n_clusters=36; total time=   4.0s\n",
      "[CV] END ..............................kmeans__n_clusters=37; total time=   5.2s\n",
      "[CV] END ..............................kmeans__n_clusters=37; total time=   5.6s\n",
      "[CV] END ..............................kmeans__n_clusters=37; total time=   5.3s\n",
      "[CV] END ..............................kmeans__n_clusters=38; total time=  10.8s\n",
      "[CV] END ..............................kmeans__n_clusters=38; total time=   4.9s\n",
      "[CV] END ..............................kmeans__n_clusters=38; total time=   4.5s\n",
      "[CV] END ..............................kmeans__n_clusters=39; total time=   3.9s\n",
      "[CV] END ..............................kmeans__n_clusters=39; total time=   5.9s\n",
      "[CV] END ..............................kmeans__n_clusters=39; total time=   4.2s\n",
      "[CV] END ..............................kmeans__n_clusters=40; total time=   4.8s\n",
      "[CV] END ..............................kmeans__n_clusters=40; total time=   8.3s\n",
      "[CV] END ..............................kmeans__n_clusters=40; total time=   3.9s\n",
      "[CV] END ..............................kmeans__n_clusters=41; total time=   3.8s\n",
      "[CV] END ..............................kmeans__n_clusters=41; total time=   8.0s\n",
      "[CV] END ..............................kmeans__n_clusters=41; total time=   6.5s\n",
      "[CV] END ..............................kmeans__n_clusters=42; total time=   5.1s\n",
      "[CV] END ..............................kmeans__n_clusters=42; total time=   8.4s\n",
      "[CV] END ..............................kmeans__n_clusters=42; total time=   6.3s\n",
      "[CV] END ..............................kmeans__n_clusters=43; total time=   6.5s\n",
      "[CV] END ..............................kmeans__n_clusters=43; total time=   4.3s\n",
      "[CV] END ..............................kmeans__n_clusters=43; total time=   6.8s\n",
      "[CV] END ..............................kmeans__n_clusters=44; total time=   6.3s\n",
      "[CV] END ..............................kmeans__n_clusters=44; total time=   6.1s\n",
      "[CV] END ..............................kmeans__n_clusters=44; total time=   9.7s\n",
      "[CV] END ..............................kmeans__n_clusters=45; total time=   5.5s\n",
      "[CV] END ..............................kmeans__n_clusters=45; total time=   4.3s\n",
      "[CV] END ..............................kmeans__n_clusters=45; total time=   9.6s\n",
      "[CV] END ..............................kmeans__n_clusters=46; total time=   5.6s\n",
      "[CV] END ..............................kmeans__n_clusters=46; total time=   4.1s\n",
      "[CV] END ..............................kmeans__n_clusters=46; total time=   4.3s\n",
      "[CV] END ..............................kmeans__n_clusters=47; total time=   4.8s\n",
      "[CV] END ..............................kmeans__n_clusters=47; total time=   9.0s\n",
      "[CV] END ..............................kmeans__n_clusters=47; total time=   6.8s\n",
      "[CV] END ..............................kmeans__n_clusters=48; total time=   6.6s\n",
      "[CV] END ..............................kmeans__n_clusters=48; total time=   6.7s\n",
      "[CV] END ..............................kmeans__n_clusters=48; total time=   4.9s\n",
      "[CV] END ..............................kmeans__n_clusters=49; total time=   4.7s\n",
      "[CV] END ..............................kmeans__n_clusters=49; total time=   6.9s\n",
      "[CV] END ..............................kmeans__n_clusters=49; total time=   4.2s\n",
      "[CV] END ..............................kmeans__n_clusters=50; total time=   5.1s\n",
      "[CV] END ..............................kmeans__n_clusters=50; total time=   4.1s\n",
      "[CV] END ..............................kmeans__n_clusters=50; total time=   5.4s\n",
      "[CV] END ..............................kmeans__n_clusters=51; total time=   4.1s\n",
      "[CV] END ..............................kmeans__n_clusters=51; total time=   6.7s\n",
      "[CV] END ..............................kmeans__n_clusters=51; total time=   6.8s\n",
      "[CV] END ..............................kmeans__n_clusters=52; total time=   3.9s\n",
      "[CV] END ..............................kmeans__n_clusters=52; total time=   6.9s\n",
      "[CV] END ..............................kmeans__n_clusters=52; total time=   4.4s\n",
      "[CV] END ..............................kmeans__n_clusters=53; total time=   3.9s\n",
      "[CV] END ..............................kmeans__n_clusters=53; total time=   5.5s\n",
      "[CV] END ..............................kmeans__n_clusters=53; total time=   3.0s\n",
      "[CV] END ..............................kmeans__n_clusters=54; total time=   2.7s\n",
      "[CV] END ..............................kmeans__n_clusters=54; total time=   4.4s\n",
      "[CV] END ..............................kmeans__n_clusters=54; total time=   5.4s\n",
      "[CV] END ..............................kmeans__n_clusters=55; total time=   5.2s\n",
      "[CV] END ..............................kmeans__n_clusters=55; total time=   6.6s\n",
      "[CV] END ..............................kmeans__n_clusters=55; total time=   5.7s\n",
      "[CV] END ..............................kmeans__n_clusters=56; total time=   4.6s\n",
      "[CV] END ..............................kmeans__n_clusters=56; total time=   5.6s\n",
      "[CV] END ..............................kmeans__n_clusters=56; total time=   6.4s\n",
      "[CV] END ..............................kmeans__n_clusters=57; total time=   5.4s\n",
      "[CV] END ..............................kmeans__n_clusters=57; total time=   5.3s\n",
      "[CV] END ..............................kmeans__n_clusters=57; total time=   6.3s\n",
      "[CV] END ..............................kmeans__n_clusters=58; total time=   5.4s\n",
      "[CV] END ..............................kmeans__n_clusters=58; total time=   6.1s\n",
      "[CV] END ..............................kmeans__n_clusters=58; total time=   6.9s\n",
      "[CV] END ..............................kmeans__n_clusters=59; total time=   6.0s\n",
      "[CV] END ..............................kmeans__n_clusters=59; total time=  11.2s\n",
      "[CV] END ..............................kmeans__n_clusters=59; total time=   5.9s\n",
      "[CV] END ..............................kmeans__n_clusters=60; total time=   6.2s\n",
      "[CV] END ..............................kmeans__n_clusters=60; total time=   7.3s\n",
      "[CV] END ..............................kmeans__n_clusters=60; total time=   4.4s\n",
      "[CV] END ..............................kmeans__n_clusters=61; total time=   6.3s\n",
      "[CV] END ..............................kmeans__n_clusters=61; total time=   4.3s\n",
      "[CV] END ..............................kmeans__n_clusters=61; total time=   4.2s\n",
      "[CV] END ..............................kmeans__n_clusters=62; total time=   4.9s\n",
      "[CV] END ..............................kmeans__n_clusters=62; total time=   4.7s\n",
      "[CV] END ..............................kmeans__n_clusters=62; total time=   5.5s\n",
      "[CV] END ..............................kmeans__n_clusters=63; total time=   6.0s\n",
      "[CV] END ..............................kmeans__n_clusters=63; total time=   8.6s\n",
      "[CV] END ..............................kmeans__n_clusters=63; total time=   3.6s\n",
      "[CV] END ..............................kmeans__n_clusters=64; total time=   4.1s\n",
      "[CV] END ..............................kmeans__n_clusters=64; total time=   5.8s\n",
      "[CV] END ..............................kmeans__n_clusters=64; total time=   5.2s\n",
      "[CV] END ..............................kmeans__n_clusters=65; total time=   4.3s\n",
      "[CV] END ..............................kmeans__n_clusters=65; total time=   7.5s\n",
      "[CV] END ..............................kmeans__n_clusters=65; total time=   5.2s\n",
      "[CV] END ..............................kmeans__n_clusters=66; total time=   4.9s\n"
     ]
    },
    {
     "name": "stderr",
     "output_type": "stream",
     "text": [
      "/Users/jameseroy/ml/env/lib/python3.8/site-packages/sklearn/linear_model/_logistic.py:763: ConvergenceWarning: lbfgs failed to converge (status=1):\n",
      "STOP: TOTAL NO. of f AND g EVALUATIONS EXCEEDS LIMIT.\n",
      "\n",
      "Increase the number of iterations (max_iter) or scale the data as shown in:\n",
      "    https://scikit-learn.org/stable/modules/preprocessing.html\n",
      "Please also refer to the documentation for alternative solver options:\n",
      "    https://scikit-learn.org/stable/modules/linear_model.html#logistic-regression\n",
      "  n_iter_i = _check_optimize_result(\n"
     ]
    },
    {
     "name": "stdout",
     "output_type": "stream",
     "text": [
      "[CV] END ..............................kmeans__n_clusters=66; total time=  13.1s\n",
      "[CV] END ..............................kmeans__n_clusters=66; total time=   4.4s\n",
      "[CV] END ..............................kmeans__n_clusters=67; total time=   6.6s\n",
      "[CV] END ..............................kmeans__n_clusters=67; total time=   4.7s\n",
      "[CV] END ..............................kmeans__n_clusters=67; total time=   5.2s\n",
      "[CV] END ..............................kmeans__n_clusters=68; total time=   2.9s\n",
      "[CV] END ..............................kmeans__n_clusters=68; total time=   6.2s\n",
      "[CV] END ..............................kmeans__n_clusters=68; total time=   3.2s\n",
      "[CV] END ..............................kmeans__n_clusters=69; total time=   8.8s\n",
      "[CV] END ..............................kmeans__n_clusters=69; total time=   6.0s\n",
      "[CV] END ..............................kmeans__n_clusters=69; total time=   3.3s\n",
      "[CV] END ..............................kmeans__n_clusters=70; total time=   5.1s\n",
      "[CV] END ..............................kmeans__n_clusters=70; total time=   5.0s\n",
      "[CV] END ..............................kmeans__n_clusters=70; total time=   6.5s\n",
      "[CV] END ..............................kmeans__n_clusters=71; total time=   5.4s\n",
      "[CV] END ..............................kmeans__n_clusters=71; total time=   4.7s\n",
      "[CV] END ..............................kmeans__n_clusters=71; total time=   3.2s\n",
      "[CV] END ..............................kmeans__n_clusters=72; total time=   5.8s\n",
      "[CV] END ..............................kmeans__n_clusters=72; total time=   6.6s\n",
      "[CV] END ..............................kmeans__n_clusters=72; total time=   5.0s\n",
      "[CV] END ..............................kmeans__n_clusters=73; total time=   4.0s\n",
      "[CV] END ..............................kmeans__n_clusters=73; total time=   9.7s\n",
      "[CV] END ..............................kmeans__n_clusters=73; total time=   5.7s\n",
      "[CV] END ..............................kmeans__n_clusters=74; total time=   4.3s\n",
      "[CV] END ..............................kmeans__n_clusters=74; total time=   5.0s\n",
      "[CV] END ..............................kmeans__n_clusters=74; total time=   7.2s\n",
      "[CV] END ..............................kmeans__n_clusters=75; total time=   6.7s\n",
      "[CV] END ..............................kmeans__n_clusters=75; total time=   8.2s\n",
      "[CV] END ..............................kmeans__n_clusters=75; total time=   5.3s\n",
      "[CV] END ..............................kmeans__n_clusters=76; total time=   4.6s\n",
      "[CV] END ..............................kmeans__n_clusters=76; total time=   6.6s\n",
      "[CV] END ..............................kmeans__n_clusters=76; total time=   3.9s\n",
      "[CV] END ..............................kmeans__n_clusters=77; total time=   3.2s\n",
      "[CV] END ..............................kmeans__n_clusters=77; total time=   5.0s\n",
      "[CV] END ..............................kmeans__n_clusters=77; total time=   5.4s\n",
      "[CV] END ..............................kmeans__n_clusters=78; total time=   3.1s\n",
      "[CV] END ..............................kmeans__n_clusters=78; total time=   3.3s\n",
      "[CV] END ..............................kmeans__n_clusters=78; total time=   3.3s\n",
      "[CV] END ..............................kmeans__n_clusters=79; total time=   2.9s\n",
      "[CV] END ..............................kmeans__n_clusters=79; total time=   4.5s\n",
      "[CV] END ..............................kmeans__n_clusters=79; total time=   3.1s\n",
      "[CV] END ..............................kmeans__n_clusters=80; total time=   3.8s\n",
      "[CV] END ..............................kmeans__n_clusters=80; total time=   3.9s\n",
      "[CV] END ..............................kmeans__n_clusters=80; total time=   5.7s\n",
      "[CV] END ..............................kmeans__n_clusters=81; total time=   4.5s\n",
      "[CV] END ..............................kmeans__n_clusters=81; total time=   5.4s\n",
      "[CV] END ..............................kmeans__n_clusters=81; total time=   3.5s\n",
      "[CV] END ..............................kmeans__n_clusters=82; total time=   9.7s\n",
      "[CV] END ..............................kmeans__n_clusters=82; total time=   5.2s\n",
      "[CV] END ..............................kmeans__n_clusters=82; total time=   3.6s\n",
      "[CV] END ..............................kmeans__n_clusters=83; total time=   3.4s\n",
      "[CV] END ..............................kmeans__n_clusters=83; total time=   3.8s\n",
      "[CV] END ..............................kmeans__n_clusters=83; total time=   3.5s\n",
      "[CV] END ..............................kmeans__n_clusters=84; total time=   5.1s\n",
      "[CV] END ..............................kmeans__n_clusters=84; total time=   6.4s\n",
      "[CV] END ..............................kmeans__n_clusters=84; total time=   4.1s\n",
      "[CV] END ..............................kmeans__n_clusters=85; total time=   5.0s\n",
      "[CV] END ..............................kmeans__n_clusters=85; total time=   4.3s\n",
      "[CV] END ..............................kmeans__n_clusters=85; total time=   4.4s\n",
      "[CV] END ..............................kmeans__n_clusters=86; total time=   3.2s\n",
      "[CV] END ..............................kmeans__n_clusters=86; total time=   6.0s\n",
      "[CV] END ..............................kmeans__n_clusters=86; total time=   7.7s\n",
      "[CV] END ..............................kmeans__n_clusters=87; total time=   3.1s\n",
      "[CV] END ..............................kmeans__n_clusters=87; total time=   4.6s\n",
      "[CV] END ..............................kmeans__n_clusters=87; total time=   6.5s\n",
      "[CV] END ..............................kmeans__n_clusters=88; total time=   6.4s\n",
      "[CV] END ..............................kmeans__n_clusters=88; total time=   6.4s\n",
      "[CV] END ..............................kmeans__n_clusters=88; total time=   5.7s\n",
      "[CV] END ..............................kmeans__n_clusters=89; total time=   3.7s\n",
      "[CV] END ..............................kmeans__n_clusters=89; total time=   5.9s\n",
      "[CV] END ..............................kmeans__n_clusters=89; total time=   3.8s\n",
      "[CV] END ..............................kmeans__n_clusters=90; total time=   3.3s\n",
      "[CV] END ..............................kmeans__n_clusters=90; total time=   3.7s\n",
      "[CV] END ..............................kmeans__n_clusters=90; total time=   6.4s\n",
      "[CV] END ..............................kmeans__n_clusters=91; total time=   4.3s\n",
      "[CV] END ..............................kmeans__n_clusters=91; total time=   5.5s\n",
      "[CV] END ..............................kmeans__n_clusters=91; total time=   7.4s\n",
      "[CV] END ..............................kmeans__n_clusters=92; total time=   5.1s\n",
      "[CV] END ..............................kmeans__n_clusters=92; total time=   6.1s\n",
      "[CV] END ..............................kmeans__n_clusters=92; total time=   3.6s\n",
      "[CV] END ..............................kmeans__n_clusters=93; total time=   3.6s\n",
      "[CV] END ..............................kmeans__n_clusters=93; total time=   3.6s\n",
      "[CV] END ..............................kmeans__n_clusters=93; total time=   3.4s\n",
      "[CV] END ..............................kmeans__n_clusters=94; total time=   4.3s\n",
      "[CV] END ..............................kmeans__n_clusters=94; total time=   5.7s\n",
      "[CV] END ..............................kmeans__n_clusters=94; total time=   3.5s\n",
      "[CV] END ..............................kmeans__n_clusters=95; total time=   7.4s\n",
      "[CV] END ..............................kmeans__n_clusters=95; total time=  10.4s\n",
      "[CV] END ..............................kmeans__n_clusters=95; total time=   3.8s\n",
      "[CV] END ..............................kmeans__n_clusters=96; total time=   3.2s\n",
      "[CV] END ..............................kmeans__n_clusters=96; total time=   5.4s\n",
      "[CV] END ..............................kmeans__n_clusters=96; total time=   3.5s\n",
      "[CV] END ..............................kmeans__n_clusters=97; total time=   6.0s\n",
      "[CV] END ..............................kmeans__n_clusters=97; total time=   3.9s\n",
      "[CV] END ..............................kmeans__n_clusters=97; total time=   4.2s\n",
      "[CV] END ..............................kmeans__n_clusters=98; total time=   3.5s\n",
      "[CV] END ..............................kmeans__n_clusters=98; total time=   4.3s\n",
      "[CV] END ..............................kmeans__n_clusters=98; total time=   9.4s\n",
      "[CV] END ..............................kmeans__n_clusters=99; total time=   3.4s\n",
      "[CV] END ..............................kmeans__n_clusters=99; total time=   5.7s\n",
      "[CV] END ..............................kmeans__n_clusters=99; total time=   4.0s\n"
     ]
    },
    {
     "data": {
      "text/plain": [
       "GridSearchCV(cv=3,\n",
       "             estimator=Pipeline(steps=[('kmeans', KMeans(n_clusters=50)),\n",
       "                                       ('log_reg',\n",
       "                                        LogisticRegression(max_iter=100000))]),\n",
       "             param_grid={'kmeans__n_clusters': range(2, 100)}, verbose=2)"
      ]
     },
     "execution_count": 24,
     "metadata": {},
     "output_type": "execute_result"
    }
   ],
   "source": [
    "from sklearn.model_selection import GridSearchCV\n",
    "\n",
    "param_grid = dict(kmeans__n_clusters=range(2,100))\n",
    "grid_search_clf = GridSearchCV(pipeline, param_grid, cv=3, verbose=2)\n",
    "grid_search_clf.fit(X_train, y_train)"
   ]
  },
  {
   "cell_type": "code",
   "execution_count": 32,
   "metadata": {},
   "outputs": [],
   "source": [
    "import pickle\n",
    "\n",
    "with open('gridsearch_clf.sav', 'wb') as f:\n",
    "    pickle.dump(grid_search_clf, f)"
   ]
  },
  {
   "cell_type": "code",
   "execution_count": 34,
   "metadata": {},
   "outputs": [],
   "source": [
    "j = pickle.load(open('gridsearch_clf.sav', 'rb'))"
   ]
  },
  {
   "cell_type": "code",
   "execution_count": 36,
   "metadata": {},
   "outputs": [
    {
     "data": {
      "text/plain": [
       "0.9777777777777777"
      ]
     },
     "execution_count": 36,
     "metadata": {},
     "output_type": "execute_result"
    }
   ],
   "source": [
    "j.score(X_test, y_test)"
   ]
  },
  {
   "cell_type": "code",
   "execution_count": 37,
   "metadata": {},
   "outputs": [
    {
     "data": {
      "text/plain": [
       "{'kmeans__n_clusters': 83}"
      ]
     },
     "execution_count": 37,
     "metadata": {},
     "output_type": "execute_result"
    }
   ],
   "source": [
    "grid_search_clf.best_params_"
   ]
  },
  {
   "cell_type": "code",
   "execution_count": 44,
   "metadata": {},
   "outputs": [
    {
     "data": {
      "text/plain": [
       "0.9866666666666667"
      ]
     },
     "execution_count": 44,
     "metadata": {},
     "output_type": "execute_result"
    }
   ],
   "source": [
    "pipeline = Pipeline([\n",
    "    (\"kmeans\", KMeans(n_clusters=150)),\n",
    "    (\"log_reg\", LogisticRegression(max_iter=100000))\n",
    "])\n",
    "\n",
    "pipeline.fit(X_train, y_train)\n",
    "pipeline.score(X_test, y_test)"
   ]
  },
  {
   "cell_type": "markdown",
   "metadata": {},
   "source": [
    "#### Using Clustering for Semi-Supervised Learning\n",
    "- When there are many unlabeled instances and few labeled instances"
   ]
  },
  {
   "cell_type": "code",
   "execution_count": 94,
   "metadata": {},
   "outputs": [
    {
     "data": {
      "text/plain": [
       "0.8644444444444445"
      ]
     },
     "execution_count": 94,
     "metadata": {},
     "output_type": "execute_result"
    }
   ],
   "source": [
    "n_labeled = 50 # get 50 labeled instances from training set\n",
    "log_reg = LogisticRegression(max_iter=1000000)\n",
    "log_reg.fit(X_train[:n_labeled], y_train[:n_labeled])\n",
    "log_reg.score(X_test, y_test)"
   ]
  },
  {
   "cell_type": "markdown",
   "metadata": {},
   "source": [
    "No surprise that the accuracy is worse because the training data is smaller"
   ]
  },
  {
   "cell_type": "code",
   "execution_count": 95,
   "metadata": {},
   "outputs": [
    {
     "name": "stdout",
     "output_type": "stream",
     "text": [
      "(1347, 64) (1347, 50) (50,)\n"
     ]
    }
   ],
   "source": [
    "import numpy as np\n",
    "\n",
    "k = 50\n",
    "kmeans = KMeans(n_clusters=k) #50 clusters\n",
    "X_digits_dist = kmeans.fit_transform(X_train) # returns the distances of each instance to the 50 clusters\n",
    "# axis 0 = y-axis\n",
    "representative_digit_idx = np.argmin(X_digits_dist, axis=0) # get the image indexes closest to the centroids of each of the 50 clusters\n",
    "print(X_train.shape, X_digits_dist.shape, representative_digit_idx.shape)\n",
    "X_representative_digits = X_train[representative_digit_idx] #get those images from the training set"
   ]
  },
  {
   "cell_type": "code",
   "execution_count": 96,
   "metadata": {},
   "outputs": [
    {
     "data": {
      "image/png": "[encoded data removed]",
      "text/plain": [
       "<Figure size 1440x144 with 50 Axes>"
      ]
     },
     "metadata": {
      "needs_background": "light"
     },
     "output_type": "display_data"
    }
   ],
   "source": [
    "import matplotlib.pyplot as plt\n",
    "\n",
    "plt.figure(figsize=(20, 2))\n",
    "\n",
    "for index, X_representative_digit in enumerate(X_representative_digits):\n",
    "    plt.subplot(k//10, 10, index+1) # rows, cols, index\n",
    "    plt.imshow(X_representative_digit.reshape(8, 8), cmap=plt.cm.gray_r, interpolation='nearest')\n",
    "    plt.axis('off')\n",
    "    \n",
    "plt.show()"
   ]
  },
  {
   "cell_type": "code",
   "execution_count": 99,
   "metadata": {},
   "outputs": [],
   "source": [
    "y_representative_digits = np.array([8, 1, 6, 4, 2, 0, 7, 8, 0, 1, 2, 9, 5, 3, 4, 6, 1, 5, 9, 7, 5, 2, 3, 5, 6, 8, 1, 4, 3, 7, 4, 3, 0, 2, 9, 4, 0, 8, 5, 7,\n",
    "                                   6, 2, 0, 8, 1, 9, 2, 3, 2, 2])\n"
   ]
  },
  {
   "cell_type": "code",
   "execution_count": 100,
   "metadata": {},
   "outputs": [
    {
     "name": "stderr",
     "output_type": "stream",
     "text": [
      "/Users/jameseroy/ml/env/lib/python3.8/site-packages/sklearn/linear_model/_logistic.py:763: ConvergenceWarning: lbfgs failed to converge (status=1):\n",
      "STOP: TOTAL NO. of ITERATIONS REACHED LIMIT.\n",
      "\n",
      "Increase the number of iterations (max_iter) or scale the data as shown in:\n",
      "    https://scikit-learn.org/stable/modules/preprocessing.html\n",
      "Please also refer to the documentation for alternative solver options:\n",
      "    https://scikit-learn.org/stable/modules/linear_model.html#logistic-regression\n",
      "  n_iter_i = _check_optimize_result(\n"
     ]
    },
    {
     "data": {
      "text/plain": [
       "0.8955555555555555"
      ]
     },
     "execution_count": 100,
     "metadata": {},
     "output_type": "execute_result"
    }
   ],
   "source": [
    "log_reg = LogisticRegression()\n",
    "log_reg.fit(X_representative_digits, y_representative_digits)\n",
    "log_reg.score(X_test, y_test)"
   ]
  },
  {
   "cell_type": "markdown",
   "metadata": {},
   "source": [
    "Big jump in accuracy from 86.4%!!\n",
    "\n",
    "**Labeling data is tedious**. That is why it is better to just label to representative instances rather than just random instances."
   ]
  },
  {
   "cell_type": "markdown",
   "metadata": {},
   "source": [
    "#### Label propagation"
   ]
  },
  {
   "cell_type": "code",
   "execution_count": 124,
   "metadata": {},
   "outputs": [
    {
     "name": "stdout",
     "output_type": "stream",
     "text": [
      "1347\n"
     ]
    }
   ],
   "source": [
    "print(len(kmeans.labels_))\n",
    "\n",
    "y_train_propagated = np.empty(len(X_train), dtype=np.int32)\n",
    "for i in range(k):\n",
    "    # kmeans.labels_ is the array of clusters that each corresponding ith instance belongs to\n",
    "    # kmeans.labels_ == i returns an array of booleans of size len(X_train)\n",
    "    y_train_propagated[kmeans.labels_ == i] = y_representative_digits[i] # convert the labels of each instance to their cluster's representative digit"
   ]
  },
  {
   "cell_type": "code",
   "execution_count": 125,
   "metadata": {},
   "outputs": [
    {
     "data": {
      "text/plain": [
       "0.9133333333333333"
      ]
     },
     "execution_count": 125,
     "metadata": {},
     "output_type": "execute_result"
    }
   ],
   "source": [
    "log_reg = LogisticRegression(max_iter=100000)\n",
    "log_reg.fit(X_train, y_train_propagated)\n",
    "log_reg.score(X_test, y_test)"
   ]
  },
  {
   "cell_type": "markdown",
   "metadata": {},
   "source": [
    "Even better!\n",
    "\n",
    "Downsides:\n",
    "- instances that are close to the boundaries could have been mislabeled"
   ]
  },
  {
   "cell_type": "markdown",
   "metadata": {},
   "source": [
    "#### Only propagate labels to 20% of the training set"
   ]
  },
  {
   "cell_type": "code",
   "execution_count": 126,
   "metadata": {},
   "outputs": [
    {
     "name": "stdout",
     "output_type": "stream",
     "text": [
      "0.2034149962880475\n"
     ]
    }
   ],
   "source": [
    "threshold = .2\n",
    "\n",
    "percent_propagated = 0\n",
    "\n",
    "y_train_propagated2 = np.copy(y_train)\n",
    "for i in range(k):\n",
    "    if percent_propagated > threshold:\n",
    "        break\n",
    "    y_train_propagated2[kmeans.labels_ == i] = y_representative_digits[i]\n",
    "    percent_propagated += sum(1 if label == 1 else 0 for label in kmeans.labels_ == i)/len(kmeans.labels_)\n",
    "    \n",
    "print(percent_propagated)"
   ]
  },
  {
   "cell_type": "code",
   "execution_count": 127,
   "metadata": {},
   "outputs": [
    {
     "data": {
      "text/plain": [
       "0.9644444444444444"
      ]
     },
     "execution_count": 127,
     "metadata": {},
     "output_type": "execute_result"
    }
   ],
   "source": [
    "log_reg = LogisticRegression(max_iter=100000)\n",
    "log_reg.fit(X_train, y_train_propagated2)\n",
    "log_reg.score(X_test, y_test)"
   ]
  },
  {
   "cell_type": "markdown",
   "metadata": {},
   "source": [
    "#### the book's way of partial label propagation"
   ]
  },
  {
   "cell_type": "code",
   "execution_count": 128,
   "metadata": {},
   "outputs": [],
   "source": [
    "percentile_closest = 20\n",
    "\n",
    "X_cluster_dist = X_digits_dist[np.arange(len(X_train)), kmeans.labels_]\n",
    "for i in range(k):\n",
    "    in_cluster = (kmeans.labels_ == i)\n",
    "    cluster_dist = X_cluster_dist[in_cluster]\n",
    "    cutoff_distance = np.percentile(cluster_dist, percentile_closest)\n",
    "    above_cutoff = (X_cluster_dist > cutoff_distance)\n",
    "    X_cluster_dist[in_cluster & above_cutoff] = -1\n",
    "    \n",
    "partially_propagated = (X_cluster_dist != -1)\n",
    "X_train_partially_propagated = X_train[partially_propagated]\n",
    "y_train_partially_propagated = y_train_propagated[partially_propagated]"
   ]
  },
  {
   "cell_type": "code",
   "execution_count": 129,
   "metadata": {},
   "outputs": [
    {
     "data": {
      "text/plain": [
       "LogisticRegression(max_iter=5000, multi_class='ovr', random_state=42)"
      ]
     },
     "execution_count": 129,
     "metadata": {},
     "output_type": "execute_result"
    }
   ],
   "source": [
    "log_reg = LogisticRegression(multi_class=\"ovr\", solver=\"lbfgs\", max_iter=5000, random_state=42)\n",
    "log_reg.fit(X_train_partially_propagated, y_train_partially_propagated)"
   ]
  },
  {
   "cell_type": "code",
   "execution_count": 130,
   "metadata": {},
   "outputs": [
    {
     "data": {
      "text/plain": [
       "0.9088888888888889"
      ]
     },
     "execution_count": 130,
     "metadata": {},
     "output_type": "execute_result"
    }
   ],
   "source": [
    "log_reg.score(X_test, y_test)"
   ]
  },
  {
   "cell_type": "code",
   "execution_count": null,
   "metadata": {},
   "outputs": [],
   "source": []
  }
 ],
 "metadata": {
  "kernelspec": {
   "display_name": "env",
   "language": "python",
   "name": "env"
  },
  "language_info": {
   "codemirror_mode": {
    "name": "ipython",
    "version": 3
   },
   "file_extension": ".py",
   "mimetype": "text/x-python",
   "name": "python",
   "nbconvert_exporter": "python",
   "pygments_lexer": "ipython3",
   "version": "3.8.5"
  }
 },
 "nbformat": 4,
 "nbformat_minor": 4
}
