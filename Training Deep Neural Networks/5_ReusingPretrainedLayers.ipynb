{
 "cells": [
  {
   "cell_type": "markdown",
   "metadata": {},
   "source": [
    "# Reusing Pretrained Layers\n",
    "- generally not a good idea to train a very large DNN from scratch\n",
    "- instead: **should always try to find an existing neural network that accomplishes a similar task to the one I am trying to tackle, then reuse the lower layers of this network**\n",
    "    - called *\"Transfer learning\"*\n",
    "    - speeds up training and requires significantly less data\n",
    "    \n",
    "<img src=\"images/TransferLearning.jpeg\" width=360/>"
   ]
  },
  {
   "cell_type": "markdown",
   "metadata": {},
   "source": [
    "- output layer should always be replaced because it is most likely not seful at all for the new task, and may not even have the right number of outputs for the new task\n",
    "- The more similar the tasks are, the more layers you want to use\n",
    "    - if the tasks are very similar, just replace the output layer\n",
    "- **strategy**\n",
    "    - freeze all the reused layers\n",
    "    - train model to see how it performs\n",
    "    - unfreeze one or two of the top hidden layers to let backpropagation change them \n",
    "    - see if performance improves\n",
    "    - *the more training data, the more layers can be unfrozen*\n",
    "    - *reduce the learning rate when unfreezing reused layers to avoid wrecking fine-tuned weights*\n",
    "    - if performance is still not good:\n",
    "        - small training data\n",
    "            - drop the top hidden layers\n",
    "            - freeze remaining hidden layers again\n",
    "            - iterate until right number of layers to reuse is found\n",
    "        - plenty of training data\n",
    "            - replace the top hidden layers instead of dropping them\n",
    "            - or add more hidden layers"
   ]
  },
  {
   "cell_type": "markdown",
   "metadata": {},
   "source": [
    "**Transfer Learning works best with CNNs**\n",
    "- Works well with CNNs b/c lower layers of the network detect features that are much more general\n",
    "- Doesn't work well with small dense networks:\n",
    "    - because they learn few patterns\n",
    "- Doesn't work well with dense networks: \n",
    "    - because they learn very specific patterns"
   ]
  },
  {
   "cell_type": "markdown",
   "metadata": {},
   "source": [
    "## Unsupervised Pretraining\n",
    "- Use when I cannot find a model trained on a similar task I'm working on, and I cannot gather anymore *labeled* data\n",
    "- Gather more *unlabeled* data and train an unsupervised model, such as an autoencoder or a generative adversarial network (GAN)\n",
    "    - Then, use the lower layers of the autoencoder or of the GAN's discriminator\n",
    "    - Then, add the output layer for the task on the top of the network\n",
    "    - Then, fine-tune the final network using supervised learning w/ the labeled training data\n",
    "- *this is the technique that Geoffrey Hinton and his team used in 2006 that led to the revival of NN and success of Deep Learning* "
   ]
  },
  {
   "cell_type": "markdown",
   "metadata": {},
   "source": [
    "## Pretraining on an Auxiliary Task\n",
    "- If there is not much training data, traing a NN on an auxiliary task to obtain or generate labeled training data\n",
    "    - Then, reuse the lower layers for the atual task\n",
    "    - explanation:\n",
    "        - The first NN's lower layers will learn features than will probably be reusable by the second neural network\n",
    "- example use:\n",
    "    - Task: train a network to recognize faces\n",
    "    - Having only a few picture of people that are labeled\n",
    "        - gathering more picture of each invidual would not be practical\n",
    "    - However, I could gather lots of pictures of random people on the web and train a first NN to detect if two different pictures have the same person. \n",
    "        - This network would have good feature detectors for faces\n",
    "        - ^ its lower layers will be good for classifying faces"
   ]
  },
  {
   "cell_type": "code",
   "execution_count": null,
   "metadata": {},
   "outputs": [],
   "source": []
  }
 ],
 "metadata": {
  "kernelspec": {
   "display_name": "env",
   "language": "python",
   "name": "env"
  },
  "language_info": {
   "codemirror_mode": {
    "name": "ipython",
    "version": 3
   },
   "file_extension": ".py",
   "mimetype": "text/x-python",
   "name": "python",
   "nbconvert_exporter": "python",
   "pygments_lexer": "ipython3",
   "version": "3.8.5"
  }
 },
 "nbformat": 4,
 "nbformat_minor": 4
}
