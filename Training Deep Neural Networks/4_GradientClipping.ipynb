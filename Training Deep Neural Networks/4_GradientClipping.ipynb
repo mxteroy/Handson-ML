{
 "cells": [
  {
   "cell_type": "markdown",
   "metadata": {},
   "source": [
    "# Gradient Clipping \n",
    "- \"clip\" the gradients during backpropagation so that they don't exceed a threshold\n",
    "- another popular technique to mitigate the exploding gradients problem \n",
    "- Most often used in recurrent neural networks (RNNs) b/c BN is not as effective\n",
    "\n",
    "\n",
    "It's just a matter of setting the clipvalue or clipnorm arg in an optimizer:"
   ]
  },
  {
   "cell_type": "code",
   "execution_count": 1,
   "metadata": {},
   "outputs": [],
   "source": [
    "from tensorflow import keras\n",
    "\n",
    "optimizer = keras.optimizers.SGD(clipvalue=1.0)"
   ]
  },
  {
   "cell_type": "code",
   "execution_count": null,
   "metadata": {},
   "outputs": [],
   "source": []
  }
 ],
 "metadata": {
  "kernelspec": {
   "display_name": "env",
   "language": "python",
   "name": "env"
  },
  "language_info": {
   "codemirror_mode": {
    "name": "ipython",
    "version": 3
   },
   "file_extension": ".py",
   "mimetype": "text/x-python",
   "name": "python",
   "nbconvert_exporter": "python",
   "pygments_lexer": "ipython3",
   "version": "3.8.5"
  }
 },
 "nbformat": 4,
 "nbformat_minor": 4
}
