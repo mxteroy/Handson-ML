{
 "cells": [
  {
   "cell_type": "markdown",
   "metadata": {},
   "source": [
    "## Training Deep Neural Networks\n",
    "\n",
    "What if I need to tackle a complex problem, such as tetecting hundreds of types of objects in high-resolution images?\n",
    "- I would need to train a DNN with maybe 10 layers or many more w/ hundrds of neurons, linked by hundred of thousands of connections\n",
    "\n",
    "Problems I could run into:\n",
    "- May be faced with the tricky *vanishing gradients* problem or the related *exploding gradients* problem\n",
    "    - when the gradients grow smaller and smaller, or larger and larger, when flowing backward through the DNN during training\n",
    "    - makes training the lower layers (closer to inputs) much harder to train\n",
    "- Not enough training data for such a large network OR training data is there but is too costly to label\n",
    "- Training may be extremely slow\n",
    "- A model w/ millions of parameters would severely risk overfitting the training set, especially if there are not enough training instances (low # of features: # training instances ratio leads to overfitting) or those instances are too noisy\n",
    "\n",
    "### Goal of the chapter: to be able to solve the problems above"
   ]
  },
  {
   "cell_type": "code",
   "execution_count": null,
   "metadata": {},
   "outputs": [],
   "source": []
  }
 ],
 "metadata": {
  "kernelspec": {
   "display_name": "env",
   "language": "python",
   "name": "env"
  },
  "language_info": {
   "codemirror_mode": {
    "name": "ipython",
    "version": 3
   },
   "file_extension": ".py",
   "mimetype": "text/x-python",
   "name": "python",
   "nbconvert_exporter": "python",
   "pygments_lexer": "ipython3",
   "version": "3.8.5"
  }
 },
 "nbformat": 4,
 "nbformat_minor": 4
}
