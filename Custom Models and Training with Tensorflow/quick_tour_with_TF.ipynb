{
 "cells": [
  {
   "cell_type": "markdown",
   "metadata": {},
   "source": [
    "- 95% of problems that can be solved with neural networks will only ever need a high-level API like Keras\n",
    "- **Why Tensorflow would be needed:**\n",
    "    - custom:\n",
    "        - loss functions\n",
    "        - metrics\n",
    "        - layers\n",
    "        - models\n",
    "        - initializers\n",
    "        - regularizers\n",
    "        - weight constraints\n",
    "        - and more"
   ]
  },
  {
   "cell_type": "markdown",
   "metadata": {},
   "source": [
    "# <font color='orange'>A Quick Tour of Tensorflow</font>\n",
    "- It was developed by the Google Brain team\n",
    "- Most popular DL library\n",
    "- **What TF offers:\n",
    "    - the core is very similar to NumPy, but with GPU support\n",
    "    - Supports distributed computing\n",
    "    - Just-in-time (JIT) compiler to optimizer memory and computation speed\n",
    "        - Extracts the computation graph from a Python function and optimizing (e.g. by pruning unused nodes), and then running them efficiently (e.g. independent operations run in parallel)\n",
    "- data loading and preprocessing: tf.data, tf.io, tf.image\n",
    "- lower level TF operations are written in C++ code so that they are fast\n",
    "- Many operations have implementations called *kernels*. each kernel is dedicated to a specific device type - CPUs, GPUs, TPUs\n",
    "- "
   ]
  },
  {
   "cell_type": "code",
   "execution_count": null,
   "metadata": {},
   "outputs": [],
   "source": []
  }
 ],
 "metadata": {
  "kernelspec": {
   "display_name": "env",
   "language": "python",
   "name": "env"
  },
  "language_info": {
   "codemirror_mode": {
    "name": "ipython",
    "version": 3
   },
   "file_extension": ".py",
   "mimetype": "text/x-python",
   "name": "python",
   "nbconvert_exporter": "python",
   "pygments_lexer": "ipython3",
   "version": "3.8.5"
  }
 },
 "nbformat": 4,
 "nbformat_minor": 4
}
