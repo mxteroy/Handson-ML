{
 "cells": [
  {
   "cell_type": "code",
   "execution_count": 1,
   "metadata": {},
   "outputs": [],
   "source": [
    "import numpy as np\n",
    "\n",
    "m = 100\n",
    "X = 6 * np.random.rand(m, 1) - 3\n",
    "y = 0.5 * X**2 + X + 2 + np.random.randn(m, 1) # quadratic equation + gaussian noise"
   ]
  },
  {
   "cell_type": "code",
   "execution_count": 2,
   "metadata": {},
   "outputs": [
    {
     "data": {
      "text/plain": [
       "<matplotlib.collections.PathCollection at 0x7fc260602160>"
      ]
     },
     "execution_count": 2,
     "metadata": {},
     "output_type": "execute_result"
    },
    {
     "data": {
      "image/png": "[encoded data removed]",
      "text/plain": [
       "<Figure size 432x288 with 1 Axes>"
      ]
     },
     "metadata": {
      "needs_background": "light"
     },
     "output_type": "display_data"
    }
   ],
   "source": [
    "import matplotlib.pyplot as plt\n",
    "\n",
    "plt.scatter(X, y)"
   ]
  },
  {
   "cell_type": "code",
   "execution_count": 3,
   "metadata": {},
   "outputs": [
    {
     "data": {
      "text/plain": [
       "array([0.87606146])"
      ]
     },
     "execution_count": 3,
     "metadata": {},
     "output_type": "execute_result"
    }
   ],
   "source": [
    "X[0] ** 2"
   ]
  },
  {
   "cell_type": "markdown",
   "metadata": {},
   "source": [
    "### Enabling a linear regression model to find relationships of multiple features\n",
    "- transform the training set to where each instance has all the combinations of features up to the given degree\n",
    "    - e.g. two features a and b (meaning degree == 3 b/c intercept + a + b) would have polynomial features a^2, a^3, b^2, b^3, ab, a^2b, ab^2"
   ]
  },
  {
   "cell_type": "code",
   "execution_count": 4,
   "metadata": {},
   "outputs": [
    {
     "name": "stdout",
     "output_type": "stream",
     "text": [
      "[ 1.         -0.93598155  0.87606146]\n"
     ]
    }
   ],
   "source": [
    "from sklearn.preprocessing import PolynomialFeatures\n",
    "\n",
    "poly_features = PolynomialFeatures(degree=2)\n",
    "X_full = poly_features.fit_transform(X) #add the different combinations of X to a given degree (this case 2) as features\n",
    "print(X_full[0])"
   ]
  },
  {
   "cell_type": "markdown",
   "metadata": {},
   "source": [
    "the result is an array [1, X, X<sup>2</sup>]"
   ]
  },
  {
   "cell_type": "code",
   "execution_count": 5,
   "metadata": {},
   "outputs": [
    {
     "name": "stdout",
     "output_type": "stream",
     "text": [
      "[2.23319129] [[0.         1.02995056 0.45085464]]\n"
     ]
    }
   ],
   "source": [
    "from sklearn.linear_model import LinearRegression\n",
    "\n",
    "lin_reg = LinearRegression()\n",
    "lin_reg.fit(X_full, y)\n",
    "print(lin_reg.intercept_, lin_reg.coef_)"
   ]
  },
  {
   "cell_type": "markdown",
   "metadata": {},
   "source": [
    "### how to pick the correct order for polynomial regression\n",
    "- Data driven means using data to figure out which one is the best. We usually have training set and testing set. There are some other variations, such as adding one additional validation data set, run repeated cross validation etc. But the overall idea is and pick the best one in testing set, and we can make sure testing set is very close to production data.\n",
    "\n",
    "- Knowledge driven means using \"domain knowledge\" to make the decision on parameter tuning. For example, we are fitting some data from some trajectory data and we know our data from physics would generally follow a parabola trend, not a 5th order polynomial curve. Then we would like pick the 2nd order polynomial to fit. In addition, if we know our data is periodic, we may choose Fourier expansion on the data instead of polynomials. See this post What's wrong to fit periodic data with polynomials?"
   ]
  },
  {
   "cell_type": "markdown",
   "metadata": {},
   "source": [
    "### **Learning Curve**"
   ]
  },
  {
   "cell_type": "code",
   "execution_count": 6,
   "metadata": {},
   "outputs": [],
   "source": [
    "from sklearn.metrics import mean_squared_error\n",
    "from sklearn.model_selection import train_test_split\n",
    "\n",
    "def plot_learning_curve(model, X, y):\n",
    "    train_mse, test_mse = [], []\n",
    "    X_train, X_test, y_train, y_test = train_test_split(X, y, test_size=0.2)\n",
    "    for m in range(1, len(X)):\n",
    "        model.fit(X_train[:m], y_train[:m])\n",
    "        y_train_pred = model.predict(X_train[:m])\n",
    "        y_test_pred = model.predict(X_test)\n",
    "        y_train_mse = mean_squared_error(y_train[:m], y_train_pred)\n",
    "        y_test_mse = mean_squared_error(y_test, y_test_pred)\n",
    "        train_mse.append(y_train_mse)\n",
    "        test_mse.append(y_test_mse)\n",
    "    plt.plot(np.sqrt(train_mse), \"r-+\", label=\"Training set\")\n",
    "    plt.plot(np.sqrt(test_mse), \"b-\", label=\"Test set\")\n",
    "    plt.legend(loc=\"upper right\")"
   ]
  },
  {
   "cell_type": "code",
   "execution_count": 7,
   "metadata": {},
   "outputs": [
    {
     "data": {
      "image/png": "[encoded data removed]",
      "text/plain": [
       "<Figure size 432x288 with 1 Axes>"
      ]
     },
     "metadata": {
      "needs_background": "light"
     },
     "output_type": "display_data"
    }
   ],
   "source": [
    "lin_reg = LinearRegression()\n",
    "plot_learning_curve(lin_reg, X_full, y) #if I used the training set w/o polynomial features then the error would be higher"
   ]
  },
  {
   "cell_type": "markdown",
   "metadata": {},
   "source": [
    "- at the start\n",
    "    - the training set is being overfit by the model\n",
    "    - the test set is being underfit by the model\n",
    "    - the model is terrible at generalizing\n",
    "- as the curve converges\n",
    "    - the model can't perfectly fit the training set anymore\n",
    "    - the model gets better at fitting the training set\n",
    "- if there is a large gap between the training and test curve, then the model is overfitting too much on the training data\n",
    "    - can be fixed with more data"
   ]
  },
  {
   "cell_type": "markdown",
   "metadata": {},
   "source": [
    "#### Generalization error\n",
    "- It is expressed as a sum of three very different errors:\n",
    "    - Bias - wrong assumptions (e.g. assuming the data is linear when it's actually quadratic). High bias on a model will make it **underfit** training data\n",
    "    - Variance - excessive sensitivity to small changes. It positively correlates to the model's degrees of freedom. High-degree polynomials have high degrees, which makes it have high variance and more likely to **overfit** training data"
   ]
  },
  {
   "cell_type": "markdown",
   "metadata": {},
   "source": [
    "### **Regularized Linear Models**\n",
    "- Regularization, significantly reduces the variance of the model, without substantial increase in its bias\n",
    "- Unregularized code function is when alpha=0\n",
    "- **Goal: reduce the number of polynomial degrees through regularizing the model by constraining the weights. To prevent overfitting**\n",
    "\n",
    "#### Ridge regression\n",
    "- Add a regularization term to cost function (should only be added during training)\n",
    "- Goal: to keep the weights (theta_1, theta_2, ..., theta_n) as small as possible to reduce\n",
    "- Increasing alpha => flatter predictions, **reduces variance**, and **increases bias**"
   ]
  },
  {
   "cell_type": "code",
   "execution_count": 21,
   "metadata": {},
   "outputs": [],
   "source": [
    "from sklearn.linear_model import Ridge\n",
    "\n",
    "alpha = 1.0"
   ]
  },
  {
   "cell_type": "markdown",
   "metadata": {},
   "source": [
    "Ridge regression using closed-form equation for prediction:"
   ]
  },
  {
   "cell_type": "code",
   "execution_count": 21,
   "metadata": {},
   "outputs": [
    {
     "data": {
      "text/plain": [
       "array([[1.66555967]])"
      ]
     },
     "execution_count": 21,
     "metadata": {},
     "output_type": "execute_result"
    }
   ],
   "source": [
    "rid_reg = Ridge(alpha=alpha, solver=\"cholesky\") # cholesky is a variant of equation 4-9 pg. 131\n",
    "rid_reg.fit(X_full, y)\n",
    "rid_reg.predict(X_full[1:2])"
   ]
  },
  {
   "cell_type": "markdown",
   "metadata": {},
   "source": [
    "Ridge reg using SGD:"
   ]
  },
  {
   "cell_type": "code",
   "execution_count": 29,
   "metadata": {},
   "outputs": [
    {
     "data": {
      "text/plain": [
       "array([1.61151613])"
      ]
     },
     "execution_count": 29,
     "metadata": {},
     "output_type": "execute_result"
    }
   ],
   "source": [
    "from sklearn.linear_model import SGDRegressor\n",
    "\n",
    "sgd_reg = SGDRegressor(penalty=\"l2\") # l2 norm function (sqrt of the sum of the vector values squared). means that it will be added to the cost func of SGD\n",
    "sgd_reg.fit(X_full, y.ravel()) #SGDRegressor expects a 1d array. Using ravel to flatten it\n",
    "sgd_reg.predict(X_full[1:2])"
   ]
  },
  {
   "cell_type": "markdown",
   "metadata": {},
   "source": [
    "#### Lasso regression\n",
    "- vs ridge regression\n",
    "    - uses the l1 norm rather than half the square of the l2 norm\n",
    "- **important characteristic:** it tends to completely ignore the least important features\n",
    "- automatic feature selection and outputs sparse model (few nonzero feature weights (thetas))\n",
    "    - high-degree polynomial features are made equal to zero\n",
    "- The learning rate is decreased as gradient descent reaches the global minimum beacause it bounces around\n",
    "- It is not differentiable when theta_i=0, so use gradient descent when theta_i=0 to find next step of theta\n",
    "        \n"
   ]
  },
  {
   "cell_type": "markdown",
   "metadata": {},
   "source": [
    "#### Intuition on Regulization:\n",
    "- almost always use regularized linear regression\n",
    "- When to use:\n",
    "    - Ridge: the default\n",
    "    - Elastic Net: when only a few features will be useful\n",
    "    - Lasso: use elastic net when possible b/c lasso behaves erractically when # features > # instances or when features have strong correlation"
   ]
  },
  {
   "cell_type": "markdown",
   "metadata": {},
   "source": [
    "#### Earling Stopping Regularization (pg. 135)\n",
    "- Stop learning algorithms (e.g. gradient descent) right when the cost function reaches a minimum to get the best parameters\n",
    "- Problem: Stochastic GD and Batch GD don't have straight paths to the global minimum\n",
    "    - Solution: stop only after validation error (cost) has been above the minimum after some time"
   ]
  },
  {
   "cell_type": "code",
   "execution_count": null,
   "metadata": {},
   "outputs": [],
   "source": []
  }
 ],
 "metadata": {
  "kernelspec": {
   "display_name": "env",
   "language": "python",
   "name": "env"
  },
  "language_info": {
   "codemirror_mode": {
    "name": "ipython",
    "version": 3
   },
   "file_extension": ".py",
   "mimetype": "text/x-python",
   "name": "python",
   "nbconvert_exporter": "python",
   "pygments_lexer": "ipython3",
   "version": "3.8.5"
  }
 },
 "nbformat": 4,
 "nbformat_minor": 4
}
