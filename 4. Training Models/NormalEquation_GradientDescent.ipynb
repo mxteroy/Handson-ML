{
 "cells": [
  {
   "cell_type": "code",
   "execution_count": 13,
   "metadata": {},
   "outputs": [],
   "source": [
    "import numpy as np\n",
    "\n",
    "X = 2 * np.random.rand(100, 1) # training set\n",
    "y = 4 + 3 * X + np.random.randn(100, 1) # y = 4 + 3*X + Guassian noise"
   ]
  },
  {
   "cell_type": "code",
   "execution_count": 14,
   "metadata": {},
   "outputs": [
    {
     "data": {
      "text/plain": [
       "<matplotlib.collections.PathCollection at 0x7fabf9173ac0>"
      ]
     },
     "execution_count": 14,
     "metadata": {},
     "output_type": "execute_result"
    },
    {
     "data": {
      "image/png": "[encoded data removed]",
      "text/plain": [
       "<Figure size 432x288 with 1 Axes>"
      ]
     },
     "metadata": {
      "needs_background": "light"
     },
     "output_type": "display_data"
    }
   ],
   "source": [
    "import matplotlib.pyplot as plt\n",
    "\n",
    "plt.scatter(X, y, s=1.5)"
   ]
  },
  {
   "cell_type": "code",
   "execution_count": 15,
   "metadata": {},
   "outputs": [],
   "source": [
    "X_full = np.c_[np.ones(X.shape), X]"
   ]
  },
  {
   "cell_type": "markdown",
   "metadata": {},
   "source": [
    "add 1s to each instance of X so because x1 always equals 1 (x is the instance)."
   ]
  },
  {
   "cell_type": "code",
   "execution_count": 16,
   "metadata": {},
   "outputs": [
    {
     "name": "stdout",
     "output_type": "stream",
     "text": [
      "[[1.         0.91255807]\n",
      " [1.         0.63701151]\n",
      " [1.         0.44840144]]\n"
     ]
    }
   ],
   "source": [
    "print(X_full[:3])"
   ]
  },
  {
   "cell_type": "code",
   "execution_count": 17,
   "metadata": {},
   "outputs": [],
   "source": [
    "theta_best = np.linalg.inv(np.transpose(X_full).dot(X_full)).dot(np.transpose(X_full)).dot(y)"
   ]
  },
  {
   "cell_type": "code",
   "execution_count": 18,
   "metadata": {},
   "outputs": [
    {
     "name": "stdout",
     "output_type": "stream",
     "text": [
      "[[4.08916618]\n",
      " [2.94343001]]\n"
     ]
    }
   ],
   "source": [
    "print(theta_best)"
   ]
  },
  {
   "cell_type": "markdown",
   "metadata": {},
   "source": [
    "theta0 = 4.08, theta1 = 2.91. close to original parameters but the Guassian noise made it impossible to recover original value"
   ]
  },
  {
   "cell_type": "code",
   "execution_count": 19,
   "metadata": {},
   "outputs": [],
   "source": [
    "X_new = np.array([[0], [2]])\n",
    "X_new_b = np.c_[np.ones(X_new.shape), X_new]\n",
    "y_predict = X_new_b.dot(theta_best)"
   ]
  },
  {
   "cell_type": "code",
   "execution_count": 20,
   "metadata": {},
   "outputs": [
    {
     "data": {
      "text/plain": [
       "(0.0, 2.0, 0.0, 15.0)"
      ]
     },
     "execution_count": 20,
     "metadata": {},
     "output_type": "execute_result"
    },
    {
     "data": {
      "image/png": "[encoded data removed]",
      "text/plain": [
       "<Figure size 432x288 with 1 Axes>"
      ]
     },
     "metadata": {
      "needs_background": "light"
     },
     "output_type": "display_data"
    }
   ],
   "source": [
    "plt.plot(X_new, y_predict, 'r-')\n",
    "plt.plot(X, y, 'b.')\n",
    "plt.axis([0, 2, 0, 15])"
   ]
  },
  {
   "cell_type": "markdown",
   "metadata": {},
   "source": [
    "## Gradient Descent\n",
    "- Feature scaling is required!"
   ]
  },
  {
   "cell_type": "markdown",
   "metadata": {},
   "source": [
    "## Batch Gradient Descent\n",
    "- uses the whole training set to return the gradient vector\n",
    "- theta_next_step = theta - eta * gradients #eta is tolerance"
   ]
  },
  {
   "cell_type": "code",
   "execution_count": 45,
   "metadata": {},
   "outputs": [
    {
     "name": "stdout",
     "output_type": "stream",
     "text": [
      "[[4.08916618]\n",
      " [2.94343001]]\n"
     ]
    }
   ],
   "source": [
    "import numpy as np\n",
    "\n",
    "eta = 0.1 # set val for learning rate eta\n",
    "n_iterations = 1000\n",
    "m = 100 # no. of data pts.\n",
    "\n",
    "theta = np.random.randn(2, 1) # return random val from standard normal distribution of shape(2, 1) (two rows, one col)\n",
    "theta_v = [theta]\n",
    "for i in range(n_iterations):\n",
    "    gradients = (2/m)*X_full.T.dot(X_full.dot(theta) - y)\n",
    "    theta -= gradients * eta\n",
    "    theta_v.append(theta)\n",
    "    \n",
    "print(theta) # found the theta for y (the linear regression model) that minimizes RMSE"
   ]
  },
  {
   "cell_type": "markdown",
   "metadata": {},
   "source": [
    "### Finding the best value for learning rate eta\n",
    "\n",
    "- use grid search, but limit the number of iterations (n_iterations above) to eliminate models that take too long\n",
    "- set the number of iterations very large but set the algorithm to stop at a tiny number (tolerance) when the gradient vector becomes tiny\n",
    "    - This is what happens when the GD has almost reached the minimum"
   ]
  },
  {
   "cell_type": "markdown",
   "metadata": {},
   "source": [
    "### Convergence Rate\n",
    "- Batch gradient descent on functions that are convex and with a slope that does not change abruptly will eventually converge to the minimum (optimal solution) with batch gradient descent\n",
    "- It can take O(1/eta) iterations to reach the optimum\n",
    "- Dividing the tolerance by some integer z will increase the runtime by approx. z times"
   ]
  },
  {
   "cell_type": "markdown",
   "metadata": {},
   "source": [
    "## Stochastic Gradient Descent\n",
    "- difference vs batch GD:\n",
    "    - At every step, only uses one instance in the training set rather than the whole training set to compute the gradients\n",
    "- The cost function will bounce up and down  (decreasing on average) to compute the parameters\n",
    "    - the final parameter values are good but not optimal\n",
    "    - This irregularity will help the cost function bounce out of local minima and get to the global minimum\n",
    "- To give the algorithm (SGD) the ability to settle at the minimum, decrease the learning rate at each step - called simulated annealing"
   ]
  },
  {
   "cell_type": "markdown",
   "metadata": {},
   "source": [
    "### Learning rate schedule\n",
    "- the function that determines the learning rate at each step of SGD"
   ]
  },
  {
   "cell_type": "code",
   "execution_count": 99,
   "metadata": {},
   "outputs": [],
   "source": [
    "n_epochs = 50\n",
    "t0, t1 = 5, 50\n",
    "\n",
    "theta = np.random.randn(2, 1) #shape == 2*1 for theta0, theta1\n",
    "\n",
    "def learning_rate_schedule(t):\n",
    "    return t0 / (t + t1)\n",
    "\n",
    "for epoch in range(n_epochs):\n",
    "    for i in range(m):\n",
    "        random_index = np.random.randint(m)\n",
    "        xi = X_full[random_index:random_index+1] # column syntaxreturns the original dimension of np arr\n",
    "        yi = y[random_index:random_index+1]\n",
    "        gradients = 2*xi.T.dot(xi.dot(theta) - yi)\n",
    "        eta = learning_rate_schedule(epoch * m + i)\n",
    "        theta -= gradients * eta"
   ]
  },
  {
   "cell_type": "code",
   "execution_count": 100,
   "metadata": {},
   "outputs": [
    {
     "data": {
      "text/plain": [
       "array([[4.10526752],\n",
       "       [2.95307842]])"
      ]
     },
     "execution_count": 100,
     "metadata": {},
     "output_type": "execute_result"
    }
   ],
   "source": [
    "theta"
   ]
  },
  {
   "cell_type": "markdown",
   "metadata": {},
   "source": [
    "## Mini Batch Gradient Descent\n",
    "- Computes the gradients based on smal random sets of training instances called \"mini-batches\"\n",
    "- Parameter space is less eratic than SGD so it will end up closer to the minimum than SGD\n",
    "    - parameter space - the space of possible values that define a particular mathematical model\n",
    "    - **might be harder to escape from local minimum because of its lower randomness**\n",
    "        - not a concern for linear regression because its cost function is convex"
   ]
  },
  {
   "cell_type": "code",
   "execution_count": null,
   "metadata": {},
   "outputs": [],
   "source": []
  }
 ],
 "metadata": {
  "kernelspec": {
   "display_name": "env",
   "language": "python",
   "name": "env"
  },
  "language_info": {
   "codemirror_mode": {
    "name": "ipython",
    "version": 3
   },
   "file_extension": ".py",
   "mimetype": "text/x-python",
   "name": "python",
   "nbconvert_exporter": "python",
   "pygments_lexer": "ipython3",
   "version": "3.8.5"
  }
 },
 "nbformat": 4,
 "nbformat_minor": 4
}
